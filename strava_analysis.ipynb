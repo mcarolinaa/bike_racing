{
 "cells": [
  {
   "cell_type": "markdown",
   "metadata": {},
   "source": [
    "### Bike racing analysis\n",
    "\n",
    "#### Racing: UpHill (Tangará da Serra, MT, Brazil)\n",
    "\n",
    "Data obtained from strava for the years of 2017, 2018 and 2019."
   ]
  },
  {
   "cell_type": "code",
   "execution_count": 1,
   "metadata": {},
   "outputs": [],
   "source": [
    "import pandas as pd\n",
    "import numpy as np\n",
    "import lxml\n",
    "import html5lib\n",
    "import os\n",
    "import glob\n",
    "import matplotlib"
   ]
  },
  {
   "cell_type": "markdown",
   "metadata": {},
   "source": [
    "#### 1. Data importing"
   ]
  },
  {
   "cell_type": "code",
   "execution_count": 4,
   "metadata": {},
   "outputs": [],
   "source": [
    "# All html files at once\n",
    "path = r'C:\\Users\\carol\\Documents\\DATA SCIENCE\\PYTHON\\PROJECTS\\strava_project' \n",
    "all_files = glob.glob(os.path.join(path, \"*.html\"))"
   ]
  },
  {
   "cell_type": "code",
   "execution_count": 5,
   "metadata": {},
   "outputs": [
    {
     "data": {
      "text/plain": [
       "['C:\\\\Users\\\\carol\\\\Documents\\\\DATA SCIENCE\\\\PYTHON\\\\PROJECTS\\\\strava_project\\\\tab1.html',\n",
       " 'C:\\\\Users\\\\carol\\\\Documents\\\\DATA SCIENCE\\\\PYTHON\\\\PROJECTS\\\\strava_project\\\\tab2.html',\n",
       " 'C:\\\\Users\\\\carol\\\\Documents\\\\DATA SCIENCE\\\\PYTHON\\\\PROJECTS\\\\strava_project\\\\tab3.html',\n",
       " 'C:\\\\Users\\\\carol\\\\Documents\\\\DATA SCIENCE\\\\PYTHON\\\\PROJECTS\\\\strava_project\\\\tab4.html',\n",
       " 'C:\\\\Users\\\\carol\\\\Documents\\\\DATA SCIENCE\\\\PYTHON\\\\PROJECTS\\\\strava_project\\\\tab5.html',\n",
       " 'C:\\\\Users\\\\carol\\\\Documents\\\\DATA SCIENCE\\\\PYTHON\\\\PROJECTS\\\\strava_project\\\\tab6.html',\n",
       " 'C:\\\\Users\\\\carol\\\\Documents\\\\DATA SCIENCE\\\\PYTHON\\\\PROJECTS\\\\strava_project\\\\tab7.html',\n",
       " 'C:\\\\Users\\\\carol\\\\Documents\\\\DATA SCIENCE\\\\PYTHON\\\\PROJECTS\\\\strava_project\\\\tab8.html']"
      ]
     },
     "execution_count": 5,
     "metadata": {},
     "output_type": "execute_result"
    }
   ],
   "source": [
    "# check if all files are in\n",
    "all_files"
   ]
  },
  {
   "cell_type": "code",
   "execution_count": 6,
   "metadata": {},
   "outputs": [],
   "source": [
    "# put all together\n",
    "all_tables = pd.concat([pd.concat(pd.read_html(f), axis=0) for f in all_files], axis=0)"
   ]
  },
  {
   "cell_type": "code",
   "execution_count": 7,
   "metadata": {},
   "outputs": [
    {
     "data": {
      "text/html": [
       "<div>\n",
       "<style scoped>\n",
       "    .dataframe tbody tr th:only-of-type {\n",
       "        vertical-align: middle;\n",
       "    }\n",
       "\n",
       "    .dataframe tbody tr th {\n",
       "        vertical-align: top;\n",
       "    }\n",
       "\n",
       "    .dataframe thead th {\n",
       "        text-align: right;\n",
       "    }\n",
       "</style>\n",
       "<table border=\"1\" class=\"dataframe\">\n",
       "  <thead>\n",
       "    <tr style=\"text-align: right;\">\n",
       "      <th></th>\n",
       "      <th>0</th>\n",
       "      <th>1</th>\n",
       "      <th>2</th>\n",
       "      <th>3</th>\n",
       "      <th>Classificação</th>\n",
       "      <th>Data</th>\n",
       "      <th>FC</th>\n",
       "      <th>Nome</th>\n",
       "      <th>Potência</th>\n",
       "      <th>Tempo</th>\n",
       "      <th>VAM</th>\n",
       "      <th>Velocidade</th>\n",
       "    </tr>\n",
       "  </thead>\n",
       "  <tbody>\n",
       "    <tr>\n",
       "      <th>0</th>\n",
       "      <td>Meu local atual 61  / 179</td>\n",
       "      <td>Meu melhor tempo 1:30:20</td>\n",
       "      <td>Totais Totais Hoje Esta semana Este mês</td>\n",
       "      <td>Todos Todos Homens Mulheres</td>\n",
       "      <td>NaN</td>\n",
       "      <td>NaN</td>\n",
       "      <td>NaN</td>\n",
       "      <td>NaN</td>\n",
       "      <td>NaN</td>\n",
       "      <td>NaN</td>\n",
       "      <td>NaN</td>\n",
       "      <td>NaN</td>\n",
       "    </tr>\n",
       "    <tr>\n",
       "      <th>0</th>\n",
       "      <td>NaN</td>\n",
       "      <td>NaN</td>\n",
       "      <td>NaN</td>\n",
       "      <td>NaN</td>\n",
       "      <td>NaN</td>\n",
       "      <td>8 de dez de 2019</td>\n",
       "      <td>168bpm</td>\n",
       "      <td>Marcelo Crestani</td>\n",
       "      <td>196W</td>\n",
       "      <td>1:15:10</td>\n",
       "      <td>-</td>\n",
       "      <td>28,1km/h</td>\n",
       "    </tr>\n",
       "    <tr>\n",
       "      <th>1</th>\n",
       "      <td>NaN</td>\n",
       "      <td>NaN</td>\n",
       "      <td>NaN</td>\n",
       "      <td>NaN</td>\n",
       "      <td>2.0</td>\n",
       "      <td>8 de dez de 2019</td>\n",
       "      <td>-</td>\n",
       "      <td>Rodrigo Alves</td>\n",
       "      <td>316W</td>\n",
       "      <td>1:15:13</td>\n",
       "      <td>-</td>\n",
       "      <td>28,1km/h</td>\n",
       "    </tr>\n",
       "    <tr>\n",
       "      <th>2</th>\n",
       "      <td>NaN</td>\n",
       "      <td>NaN</td>\n",
       "      <td>NaN</td>\n",
       "      <td>NaN</td>\n",
       "      <td>3.0</td>\n",
       "      <td>8 de dez de 2019</td>\n",
       "      <td>162bpm</td>\n",
       "      <td>Anderson Reichert 🚜🇧🇷MTB</td>\n",
       "      <td>362W</td>\n",
       "      <td>1:15:15</td>\n",
       "      <td>-</td>\n",
       "      <td>28,1km/h</td>\n",
       "    </tr>\n",
       "    <tr>\n",
       "      <th>3</th>\n",
       "      <td>NaN</td>\n",
       "      <td>NaN</td>\n",
       "      <td>NaN</td>\n",
       "      <td>NaN</td>\n",
       "      <td>4.0</td>\n",
       "      <td>8 de dez de 2019</td>\n",
       "      <td>-</td>\n",
       "      <td>Valdinei Dos Santos Valdinei Dos Santos</td>\n",
       "      <td>187W</td>\n",
       "      <td>1:16:07</td>\n",
       "      <td>-</td>\n",
       "      <td>27,7km/h</td>\n",
       "    </tr>\n",
       "    <tr>\n",
       "      <th>...</th>\n",
       "      <td>...</td>\n",
       "      <td>...</td>\n",
       "      <td>...</td>\n",
       "      <td>...</td>\n",
       "      <td>...</td>\n",
       "      <td>...</td>\n",
       "      <td>...</td>\n",
       "      <td>...</td>\n",
       "      <td>...</td>\n",
       "      <td>...</td>\n",
       "      <td>...</td>\n",
       "      <td>...</td>\n",
       "    </tr>\n",
       "    <tr>\n",
       "      <th>0</th>\n",
       "      <td>NaN</td>\n",
       "      <td>NaN</td>\n",
       "      <td>NaN</td>\n",
       "      <td>NaN</td>\n",
       "      <td>176.0</td>\n",
       "      <td>9 de dez de 2018</td>\n",
       "      <td>-</td>\n",
       "      <td>ALAN HENRIQUE</td>\n",
       "      <td>-</td>\n",
       "      <td>3:05:48</td>\n",
       "      <td>-</td>\n",
       "      <td>11,4km/h</td>\n",
       "    </tr>\n",
       "    <tr>\n",
       "      <th>1</th>\n",
       "      <td>NaN</td>\n",
       "      <td>NaN</td>\n",
       "      <td>NaN</td>\n",
       "      <td>NaN</td>\n",
       "      <td>177.0</td>\n",
       "      <td>10 de dez de 2017</td>\n",
       "      <td>-</td>\n",
       "      <td>Edivaldo Tocantins</td>\n",
       "      <td>-</td>\n",
       "      <td>3:06:04</td>\n",
       "      <td>-</td>\n",
       "      <td>11,3km/h</td>\n",
       "    </tr>\n",
       "    <tr>\n",
       "      <th>2</th>\n",
       "      <td>NaN</td>\n",
       "      <td>NaN</td>\n",
       "      <td>NaN</td>\n",
       "      <td>NaN</td>\n",
       "      <td>178.0</td>\n",
       "      <td>9 de dez de 2018</td>\n",
       "      <td>-</td>\n",
       "      <td>Sol (Sorraily Kloeckner)</td>\n",
       "      <td>67W</td>\n",
       "      <td>3:06:13</td>\n",
       "      <td>-</td>\n",
       "      <td>11,3km/h</td>\n",
       "    </tr>\n",
       "    <tr>\n",
       "      <th>3</th>\n",
       "      <td>NaN</td>\n",
       "      <td>NaN</td>\n",
       "      <td>NaN</td>\n",
       "      <td>NaN</td>\n",
       "      <td>179.0</td>\n",
       "      <td>8 de dez de 2019</td>\n",
       "      <td>-</td>\n",
       "      <td>Rosana Poloni</td>\n",
       "      <td>-</td>\n",
       "      <td>3:09:08</td>\n",
       "      <td>-</td>\n",
       "      <td>11,2km/h</td>\n",
       "    </tr>\n",
       "    <tr>\n",
       "      <th>4</th>\n",
       "      <td>NaN</td>\n",
       "      <td>NaN</td>\n",
       "      <td>NaN</td>\n",
       "      <td>NaN</td>\n",
       "      <td>180.0</td>\n",
       "      <td>8 de dez de 2019</td>\n",
       "      <td>167bpm</td>\n",
       "      <td>Jose Adolfo Correa</td>\n",
       "      <td>-</td>\n",
       "      <td>20:44:29</td>\n",
       "      <td>-</td>\n",
       "      <td>1,7km/h</td>\n",
       "    </tr>\n",
       "  </tbody>\n",
       "</table>\n",
       "<p>188 rows × 12 columns</p>\n",
       "</div>"
      ],
      "text/plain": [
       "                            0                         1  \\\n",
       "0   Meu local atual 61  / 179  Meu melhor tempo 1:30:20   \n",
       "0                         NaN                       NaN   \n",
       "1                         NaN                       NaN   \n",
       "2                         NaN                       NaN   \n",
       "3                         NaN                       NaN   \n",
       "..                        ...                       ...   \n",
       "0                         NaN                       NaN   \n",
       "1                         NaN                       NaN   \n",
       "2                         NaN                       NaN   \n",
       "3                         NaN                       NaN   \n",
       "4                         NaN                       NaN   \n",
       "\n",
       "                                          2                            3  \\\n",
       "0   Totais Totais Hoje Esta semana Este mês  Todos Todos Homens Mulheres   \n",
       "0                                       NaN                          NaN   \n",
       "1                                       NaN                          NaN   \n",
       "2                                       NaN                          NaN   \n",
       "3                                       NaN                          NaN   \n",
       "..                                      ...                          ...   \n",
       "0                                       NaN                          NaN   \n",
       "1                                       NaN                          NaN   \n",
       "2                                       NaN                          NaN   \n",
       "3                                       NaN                          NaN   \n",
       "4                                       NaN                          NaN   \n",
       "\n",
       "    Classificação               Data      FC  \\\n",
       "0             NaN                NaN     NaN   \n",
       "0             NaN   8 de dez de 2019  168bpm   \n",
       "1             2.0   8 de dez de 2019       -   \n",
       "2             3.0   8 de dez de 2019  162bpm   \n",
       "3             4.0   8 de dez de 2019       -   \n",
       "..            ...                ...     ...   \n",
       "0           176.0   9 de dez de 2018       -   \n",
       "1           177.0  10 de dez de 2017       -   \n",
       "2           178.0   9 de dez de 2018       -   \n",
       "3           179.0   8 de dez de 2019       -   \n",
       "4           180.0   8 de dez de 2019  167bpm   \n",
       "\n",
       "                                       Nome Potência     Tempo  VAM Velocidade  \n",
       "0                                       NaN      NaN       NaN  NaN        NaN  \n",
       "0                          Marcelo Crestani     196W   1:15:10    -   28,1km/h  \n",
       "1                             Rodrigo Alves     316W   1:15:13    -   28,1km/h  \n",
       "2                  Anderson Reichert 🚜🇧🇷MTB     362W   1:15:15    -   28,1km/h  \n",
       "3   Valdinei Dos Santos Valdinei Dos Santos     187W   1:16:07    -   27,7km/h  \n",
       "..                                      ...      ...       ...  ...        ...  \n",
       "0                             ALAN HENRIQUE        -   3:05:48    -   11,4km/h  \n",
       "1                        Edivaldo Tocantins        -   3:06:04    -   11,3km/h  \n",
       "2                  Sol (Sorraily Kloeckner)      67W   3:06:13    -   11,3km/h  \n",
       "3                             Rosana Poloni        -   3:09:08    -   11,2km/h  \n",
       "4                        Jose Adolfo Correa        -  20:44:29    -    1,7km/h  \n",
       "\n",
       "[188 rows x 12 columns]"
      ]
     },
     "execution_count": 7,
     "metadata": {},
     "output_type": "execute_result"
    }
   ],
   "source": [
    "# all_tables\n",
    "# Obs: first columns (0-3) refer to the first small table in the page - we'll use just the second\n",
    "# I'm interest staring at column 4 (\"Classificação\")"
   ]
  },
  {
   "cell_type": "markdown",
   "metadata": {},
   "source": [
    "#### 2. Data wrangling"
   ]
  },
  {
   "cell_type": "code",
   "execution_count": 8,
   "metadata": {},
   "outputs": [
    {
     "data": {
      "text/plain": [
       "pandas.core.frame.DataFrame"
      ]
     },
     "execution_count": 8,
     "metadata": {},
     "output_type": "execute_result"
    }
   ],
   "source": [
    "# type(all_tables)"
   ]
  },
  {
   "cell_type": "code",
   "execution_count": 9,
   "metadata": {},
   "outputs": [],
   "source": [
    "# delete columns from first table\n",
    "all_tables.drop([0,1,2,3], axis=1, inplace=True)"
   ]
  },
  {
   "cell_type": "code",
   "execution_count": 10,
   "metadata": {},
   "outputs": [],
   "source": [
    "# delete lines that have no Date (\"Data\") - probably not real values\n",
    "all_tables = all_tables[pd.notnull(all_tables['Data'])]"
   ]
  },
  {
   "cell_type": "code",
   "execution_count": 11,
   "metadata": {},
   "outputs": [
    {
     "data": {
      "text/html": [
       "<div>\n",
       "<style scoped>\n",
       "    .dataframe tbody tr th:only-of-type {\n",
       "        vertical-align: middle;\n",
       "    }\n",
       "\n",
       "    .dataframe tbody tr th {\n",
       "        vertical-align: top;\n",
       "    }\n",
       "\n",
       "    .dataframe thead th {\n",
       "        text-align: right;\n",
       "    }\n",
       "</style>\n",
       "<table border=\"1\" class=\"dataframe\">\n",
       "  <thead>\n",
       "    <tr style=\"text-align: right;\">\n",
       "      <th></th>\n",
       "      <th>Classificação</th>\n",
       "      <th>Data</th>\n",
       "      <th>FC</th>\n",
       "      <th>Nome</th>\n",
       "      <th>Potência</th>\n",
       "      <th>Tempo</th>\n",
       "      <th>VAM</th>\n",
       "      <th>Velocidade</th>\n",
       "    </tr>\n",
       "  </thead>\n",
       "  <tbody>\n",
       "    <tr>\n",
       "      <th>0</th>\n",
       "      <td>NaN</td>\n",
       "      <td>8 de dez de 2019</td>\n",
       "      <td>168bpm</td>\n",
       "      <td>Marcelo Crestani</td>\n",
       "      <td>196W</td>\n",
       "      <td>1:15:10</td>\n",
       "      <td>-</td>\n",
       "      <td>28,1km/h</td>\n",
       "    </tr>\n",
       "    <tr>\n",
       "      <th>1</th>\n",
       "      <td>2.0</td>\n",
       "      <td>8 de dez de 2019</td>\n",
       "      <td>-</td>\n",
       "      <td>Rodrigo Alves</td>\n",
       "      <td>316W</td>\n",
       "      <td>1:15:13</td>\n",
       "      <td>-</td>\n",
       "      <td>28,1km/h</td>\n",
       "    </tr>\n",
       "    <tr>\n",
       "      <th>2</th>\n",
       "      <td>3.0</td>\n",
       "      <td>8 de dez de 2019</td>\n",
       "      <td>162bpm</td>\n",
       "      <td>Anderson Reichert 🚜🇧🇷MTB</td>\n",
       "      <td>362W</td>\n",
       "      <td>1:15:15</td>\n",
       "      <td>-</td>\n",
       "      <td>28,1km/h</td>\n",
       "    </tr>\n",
       "    <tr>\n",
       "      <th>3</th>\n",
       "      <td>4.0</td>\n",
       "      <td>8 de dez de 2019</td>\n",
       "      <td>-</td>\n",
       "      <td>Valdinei Dos Santos Valdinei Dos Santos</td>\n",
       "      <td>187W</td>\n",
       "      <td>1:16:07</td>\n",
       "      <td>-</td>\n",
       "      <td>27,7km/h</td>\n",
       "    </tr>\n",
       "    <tr>\n",
       "      <th>4</th>\n",
       "      <td>5.0</td>\n",
       "      <td>8 de dez de 2019</td>\n",
       "      <td>165bpm</td>\n",
       "      <td>Vinicius Ortega</td>\n",
       "      <td>189W</td>\n",
       "      <td>1:17:49</td>\n",
       "      <td>-</td>\n",
       "      <td>27,1km/h</td>\n",
       "    </tr>\n",
       "    <tr>\n",
       "      <th>...</th>\n",
       "      <td>...</td>\n",
       "      <td>...</td>\n",
       "      <td>...</td>\n",
       "      <td>...</td>\n",
       "      <td>...</td>\n",
       "      <td>...</td>\n",
       "      <td>...</td>\n",
       "      <td>...</td>\n",
       "    </tr>\n",
       "    <tr>\n",
       "      <th>0</th>\n",
       "      <td>176.0</td>\n",
       "      <td>9 de dez de 2018</td>\n",
       "      <td>-</td>\n",
       "      <td>ALAN HENRIQUE</td>\n",
       "      <td>-</td>\n",
       "      <td>3:05:48</td>\n",
       "      <td>-</td>\n",
       "      <td>11,4km/h</td>\n",
       "    </tr>\n",
       "    <tr>\n",
       "      <th>1</th>\n",
       "      <td>177.0</td>\n",
       "      <td>10 de dez de 2017</td>\n",
       "      <td>-</td>\n",
       "      <td>Edivaldo Tocantins</td>\n",
       "      <td>-</td>\n",
       "      <td>3:06:04</td>\n",
       "      <td>-</td>\n",
       "      <td>11,3km/h</td>\n",
       "    </tr>\n",
       "    <tr>\n",
       "      <th>2</th>\n",
       "      <td>178.0</td>\n",
       "      <td>9 de dez de 2018</td>\n",
       "      <td>-</td>\n",
       "      <td>Sol (Sorraily Kloeckner)</td>\n",
       "      <td>67W</td>\n",
       "      <td>3:06:13</td>\n",
       "      <td>-</td>\n",
       "      <td>11,3km/h</td>\n",
       "    </tr>\n",
       "    <tr>\n",
       "      <th>3</th>\n",
       "      <td>179.0</td>\n",
       "      <td>8 de dez de 2019</td>\n",
       "      <td>-</td>\n",
       "      <td>Rosana Poloni</td>\n",
       "      <td>-</td>\n",
       "      <td>3:09:08</td>\n",
       "      <td>-</td>\n",
       "      <td>11,2km/h</td>\n",
       "    </tr>\n",
       "    <tr>\n",
       "      <th>4</th>\n",
       "      <td>180.0</td>\n",
       "      <td>8 de dez de 2019</td>\n",
       "      <td>167bpm</td>\n",
       "      <td>Jose Adolfo Correa</td>\n",
       "      <td>-</td>\n",
       "      <td>20:44:29</td>\n",
       "      <td>-</td>\n",
       "      <td>1,7km/h</td>\n",
       "    </tr>\n",
       "  </tbody>\n",
       "</table>\n",
       "<p>180 rows × 8 columns</p>\n",
       "</div>"
      ],
      "text/plain": [
       "    Classificação               Data      FC  \\\n",
       "0             NaN   8 de dez de 2019  168bpm   \n",
       "1             2.0   8 de dez de 2019       -   \n",
       "2             3.0   8 de dez de 2019  162bpm   \n",
       "3             4.0   8 de dez de 2019       -   \n",
       "4             5.0   8 de dez de 2019  165bpm   \n",
       "..            ...                ...     ...   \n",
       "0           176.0   9 de dez de 2018       -   \n",
       "1           177.0  10 de dez de 2017       -   \n",
       "2           178.0   9 de dez de 2018       -   \n",
       "3           179.0   8 de dez de 2019       -   \n",
       "4           180.0   8 de dez de 2019  167bpm   \n",
       "\n",
       "                                       Nome Potência     Tempo VAM Velocidade  \n",
       "0                          Marcelo Crestani     196W   1:15:10   -   28,1km/h  \n",
       "1                             Rodrigo Alves     316W   1:15:13   -   28,1km/h  \n",
       "2                  Anderson Reichert 🚜🇧🇷MTB     362W   1:15:15   -   28,1km/h  \n",
       "3   Valdinei Dos Santos Valdinei Dos Santos     187W   1:16:07   -   27,7km/h  \n",
       "4                           Vinicius Ortega     189W   1:17:49   -   27,1km/h  \n",
       "..                                      ...      ...       ...  ..        ...  \n",
       "0                             ALAN HENRIQUE        -   3:05:48   -   11,4km/h  \n",
       "1                        Edivaldo Tocantins        -   3:06:04   -   11,3km/h  \n",
       "2                  Sol (Sorraily Kloeckner)      67W   3:06:13   -   11,3km/h  \n",
       "3                             Rosana Poloni        -   3:09:08   -   11,2km/h  \n",
       "4                        Jose Adolfo Correa        -  20:44:29   -    1,7km/h  \n",
       "\n",
       "[180 rows x 8 columns]"
      ]
     },
     "execution_count": 11,
     "metadata": {},
     "output_type": "execute_result"
    }
   ],
   "source": [
    "# check\n",
    "all_tables"
   ]
  },
  {
   "cell_type": "code",
   "execution_count": 12,
   "metadata": {},
   "outputs": [],
   "source": [
    "# continuing data frame wrangling\n",
    "# create year column (\"Ano\") and put into pd date format"
   ]
  },
  {
   "cell_type": "code",
   "execution_count": 13,
   "metadata": {},
   "outputs": [],
   "source": [
    "# create condition and choices for the year column based on column Data\n",
    "ano_cond = [\n",
    "    (all_tables['Data'].str.contains('2019', regex=True)),\n",
    "    (all_tables['Data'].str.contains('2018', regex=True)),\n",
    "    (all_tables['Data'].str.contains('2017', regex=True))]\n",
    "\n",
    "choices = [2019, 2018, 2017]"
   ]
  },
  {
   "cell_type": "code",
   "execution_count": 14,
   "metadata": {},
   "outputs": [],
   "source": [
    "# Now, multiple code chunks with warnings:\n",
    "# warning that pandas doesn't know if you really know what are you doing (working on copy x working on view).\n",
    "# the warning can be supressed:\n",
    "pd.options.mode.chained_assignment = None \n",
    "\n",
    "all_tables['Ano'] = np.select(ano_cond, choices)"
   ]
  },
  {
   "cell_type": "code",
   "execution_count": 15,
   "metadata": {},
   "outputs": [],
   "source": [
    "# transform Ano column into pd date format:\n",
    "temp2 = pd.to_datetime(all_tables['Ano'], format='%Y')\n",
    "all_tables['Ano'] = temp2"
   ]
  },
  {
   "cell_type": "code",
   "execution_count": 16,
   "metadata": {},
   "outputs": [
    {
     "data": {
      "text/html": [
       "<div>\n",
       "<style scoped>\n",
       "    .dataframe tbody tr th:only-of-type {\n",
       "        vertical-align: middle;\n",
       "    }\n",
       "\n",
       "    .dataframe tbody tr th {\n",
       "        vertical-align: top;\n",
       "    }\n",
       "\n",
       "    .dataframe thead th {\n",
       "        text-align: right;\n",
       "    }\n",
       "</style>\n",
       "<table border=\"1\" class=\"dataframe\">\n",
       "  <thead>\n",
       "    <tr style=\"text-align: right;\">\n",
       "      <th></th>\n",
       "      <th>Classificação</th>\n",
       "      <th>Data</th>\n",
       "      <th>FC</th>\n",
       "      <th>Nome</th>\n",
       "      <th>Potência</th>\n",
       "      <th>Tempo</th>\n",
       "      <th>VAM</th>\n",
       "      <th>Velocidade</th>\n",
       "      <th>Ano</th>\n",
       "    </tr>\n",
       "  </thead>\n",
       "  <tbody>\n",
       "    <tr>\n",
       "      <th>0</th>\n",
       "      <td>NaN</td>\n",
       "      <td>8 de dez de 2019</td>\n",
       "      <td>168bpm</td>\n",
       "      <td>Marcelo Crestani</td>\n",
       "      <td>196W</td>\n",
       "      <td>1:15:10</td>\n",
       "      <td>-</td>\n",
       "      <td>28,1km/h</td>\n",
       "      <td>2019-01-01</td>\n",
       "    </tr>\n",
       "    <tr>\n",
       "      <th>1</th>\n",
       "      <td>2.0</td>\n",
       "      <td>8 de dez de 2019</td>\n",
       "      <td>-</td>\n",
       "      <td>Rodrigo Alves</td>\n",
       "      <td>316W</td>\n",
       "      <td>1:15:13</td>\n",
       "      <td>-</td>\n",
       "      <td>28,1km/h</td>\n",
       "      <td>2019-01-01</td>\n",
       "    </tr>\n",
       "    <tr>\n",
       "      <th>2</th>\n",
       "      <td>3.0</td>\n",
       "      <td>8 de dez de 2019</td>\n",
       "      <td>162bpm</td>\n",
       "      <td>Anderson Reichert 🚜🇧🇷MTB</td>\n",
       "      <td>362W</td>\n",
       "      <td>1:15:15</td>\n",
       "      <td>-</td>\n",
       "      <td>28,1km/h</td>\n",
       "      <td>2019-01-01</td>\n",
       "    </tr>\n",
       "    <tr>\n",
       "      <th>3</th>\n",
       "      <td>4.0</td>\n",
       "      <td>8 de dez de 2019</td>\n",
       "      <td>-</td>\n",
       "      <td>Valdinei Dos Santos Valdinei Dos Santos</td>\n",
       "      <td>187W</td>\n",
       "      <td>1:16:07</td>\n",
       "      <td>-</td>\n",
       "      <td>27,7km/h</td>\n",
       "      <td>2019-01-01</td>\n",
       "    </tr>\n",
       "    <tr>\n",
       "      <th>4</th>\n",
       "      <td>5.0</td>\n",
       "      <td>8 de dez de 2019</td>\n",
       "      <td>165bpm</td>\n",
       "      <td>Vinicius Ortega</td>\n",
       "      <td>189W</td>\n",
       "      <td>1:17:49</td>\n",
       "      <td>-</td>\n",
       "      <td>27,1km/h</td>\n",
       "      <td>2019-01-01</td>\n",
       "    </tr>\n",
       "    <tr>\n",
       "      <th>...</th>\n",
       "      <td>...</td>\n",
       "      <td>...</td>\n",
       "      <td>...</td>\n",
       "      <td>...</td>\n",
       "      <td>...</td>\n",
       "      <td>...</td>\n",
       "      <td>...</td>\n",
       "      <td>...</td>\n",
       "      <td>...</td>\n",
       "    </tr>\n",
       "    <tr>\n",
       "      <th>0</th>\n",
       "      <td>176.0</td>\n",
       "      <td>9 de dez de 2018</td>\n",
       "      <td>-</td>\n",
       "      <td>ALAN HENRIQUE</td>\n",
       "      <td>-</td>\n",
       "      <td>3:05:48</td>\n",
       "      <td>-</td>\n",
       "      <td>11,4km/h</td>\n",
       "      <td>2018-01-01</td>\n",
       "    </tr>\n",
       "    <tr>\n",
       "      <th>1</th>\n",
       "      <td>177.0</td>\n",
       "      <td>10 de dez de 2017</td>\n",
       "      <td>-</td>\n",
       "      <td>Edivaldo Tocantins</td>\n",
       "      <td>-</td>\n",
       "      <td>3:06:04</td>\n",
       "      <td>-</td>\n",
       "      <td>11,3km/h</td>\n",
       "      <td>2017-01-01</td>\n",
       "    </tr>\n",
       "    <tr>\n",
       "      <th>2</th>\n",
       "      <td>178.0</td>\n",
       "      <td>9 de dez de 2018</td>\n",
       "      <td>-</td>\n",
       "      <td>Sol (Sorraily Kloeckner)</td>\n",
       "      <td>67W</td>\n",
       "      <td>3:06:13</td>\n",
       "      <td>-</td>\n",
       "      <td>11,3km/h</td>\n",
       "      <td>2018-01-01</td>\n",
       "    </tr>\n",
       "    <tr>\n",
       "      <th>3</th>\n",
       "      <td>179.0</td>\n",
       "      <td>8 de dez de 2019</td>\n",
       "      <td>-</td>\n",
       "      <td>Rosana Poloni</td>\n",
       "      <td>-</td>\n",
       "      <td>3:09:08</td>\n",
       "      <td>-</td>\n",
       "      <td>11,2km/h</td>\n",
       "      <td>2019-01-01</td>\n",
       "    </tr>\n",
       "    <tr>\n",
       "      <th>4</th>\n",
       "      <td>180.0</td>\n",
       "      <td>8 de dez de 2019</td>\n",
       "      <td>167bpm</td>\n",
       "      <td>Jose Adolfo Correa</td>\n",
       "      <td>-</td>\n",
       "      <td>20:44:29</td>\n",
       "      <td>-</td>\n",
       "      <td>1,7km/h</td>\n",
       "      <td>2019-01-01</td>\n",
       "    </tr>\n",
       "  </tbody>\n",
       "</table>\n",
       "<p>180 rows × 9 columns</p>\n",
       "</div>"
      ],
      "text/plain": [
       "    Classificação               Data      FC  \\\n",
       "0             NaN   8 de dez de 2019  168bpm   \n",
       "1             2.0   8 de dez de 2019       -   \n",
       "2             3.0   8 de dez de 2019  162bpm   \n",
       "3             4.0   8 de dez de 2019       -   \n",
       "4             5.0   8 de dez de 2019  165bpm   \n",
       "..            ...                ...     ...   \n",
       "0           176.0   9 de dez de 2018       -   \n",
       "1           177.0  10 de dez de 2017       -   \n",
       "2           178.0   9 de dez de 2018       -   \n",
       "3           179.0   8 de dez de 2019       -   \n",
       "4           180.0   8 de dez de 2019  167bpm   \n",
       "\n",
       "                                       Nome Potência     Tempo VAM Velocidade  \\\n",
       "0                          Marcelo Crestani     196W   1:15:10   -   28,1km/h   \n",
       "1                             Rodrigo Alves     316W   1:15:13   -   28,1km/h   \n",
       "2                  Anderson Reichert 🚜🇧🇷MTB     362W   1:15:15   -   28,1km/h   \n",
       "3   Valdinei Dos Santos Valdinei Dos Santos     187W   1:16:07   -   27,7km/h   \n",
       "4                           Vinicius Ortega     189W   1:17:49   -   27,1km/h   \n",
       "..                                      ...      ...       ...  ..        ...   \n",
       "0                             ALAN HENRIQUE        -   3:05:48   -   11,4km/h   \n",
       "1                        Edivaldo Tocantins        -   3:06:04   -   11,3km/h   \n",
       "2                  Sol (Sorraily Kloeckner)      67W   3:06:13   -   11,3km/h   \n",
       "3                             Rosana Poloni        -   3:09:08   -   11,2km/h   \n",
       "4                        Jose Adolfo Correa        -  20:44:29   -    1,7km/h   \n",
       "\n",
       "          Ano  \n",
       "0  2019-01-01  \n",
       "1  2019-01-01  \n",
       "2  2019-01-01  \n",
       "3  2019-01-01  \n",
       "4  2019-01-01  \n",
       "..        ...  \n",
       "0  2018-01-01  \n",
       "1  2017-01-01  \n",
       "2  2018-01-01  \n",
       "3  2019-01-01  \n",
       "4  2019-01-01  \n",
       "\n",
       "[180 rows x 9 columns]"
      ]
     },
     "execution_count": 16,
     "metadata": {},
     "output_type": "execute_result"
    }
   ],
   "source": [
    "all_tables"
   ]
  },
  {
   "cell_type": "code",
   "execution_count": 17,
   "metadata": {},
   "outputs": [],
   "source": [
    "# Cols FC (cardiac frequency), Potência (power), Tempo (time to finish) and Velocidade (Speed)\n",
    "# not yet recgonized as numbers\n",
    "\n",
    "# Separate digit from letters\n",
    "\n",
    "# Create column of time in seconds\n",
    "all_tables['Tempo_sec'] = pd.to_timedelta(all_tables['Tempo']).dt.seconds"
   ]
  },
  {
   "cell_type": "code",
   "execution_count": 18,
   "metadata": {},
   "outputs": [],
   "source": [
    "# FC:\n",
    "all_tables['Freq_cd'] = all_tables['FC'].str.extract(pat = '([\\d]*[.]?)') \n",
    "\n",
    "# [\\d] - digits\n",
    "# [\\d]* - repeated 0 or more times\n",
    "# [.]? - followed by optional (?) dot"
   ]
  },
  {
   "cell_type": "code",
   "execution_count": 19,
   "metadata": {},
   "outputs": [],
   "source": [
    "# Potência \n",
    "all_tables['Pot'] = all_tables['Potência'].str.extract(pat = '([\\d]*[.]?)') "
   ]
  },
  {
   "cell_type": "code",
   "execution_count": 20,
   "metadata": {},
   "outputs": [],
   "source": [
    "# Velocidade\n",
    "all_tables['Veloc'] = all_tables['Velocidade'].str.extract(pat = '([\\d]*[,]?[\\d])') "
   ]
  },
  {
   "cell_type": "code",
   "execution_count": 21,
   "metadata": {},
   "outputs": [],
   "source": [
    "# Velocidade has numbers using ',' as decimal sep\n",
    "all_tables['Veloc'] = [x.replace(',', '.') for x in all_tables['Veloc']]"
   ]
  },
  {
   "cell_type": "code",
   "execution_count": 22,
   "metadata": {},
   "outputs": [],
   "source": [
    "# Fill with NaN before put into float/int\n",
    "all_tables.replace('', np.nan, inplace=True)"
   ]
  },
  {
   "cell_type": "code",
   "execution_count": 23,
   "metadata": {},
   "outputs": [],
   "source": [
    "# Freq_cd, Pot columns as floats:\n",
    "all_tables['Freq_cd'] = all_tables['Freq_cd'].astype(float)\n",
    "all_tables['Pot'] = all_tables['Pot'].astype(float)\n",
    "all_tables['Veloc'] = all_tables['Veloc'].astype(float)"
   ]
  },
  {
   "cell_type": "code",
   "execution_count": 24,
   "metadata": {},
   "outputs": [
    {
     "data": {
      "text/html": [
       "<div>\n",
       "<style scoped>\n",
       "    .dataframe tbody tr th:only-of-type {\n",
       "        vertical-align: middle;\n",
       "    }\n",
       "\n",
       "    .dataframe tbody tr th {\n",
       "        vertical-align: top;\n",
       "    }\n",
       "\n",
       "    .dataframe thead th {\n",
       "        text-align: right;\n",
       "    }\n",
       "</style>\n",
       "<table border=\"1\" class=\"dataframe\">\n",
       "  <thead>\n",
       "    <tr style=\"text-align: right;\">\n",
       "      <th></th>\n",
       "      <th>Classificação</th>\n",
       "      <th>Data</th>\n",
       "      <th>FC</th>\n",
       "      <th>Nome</th>\n",
       "      <th>Potência</th>\n",
       "      <th>Tempo</th>\n",
       "      <th>VAM</th>\n",
       "      <th>Velocidade</th>\n",
       "      <th>Ano</th>\n",
       "      <th>Tempo_sec</th>\n",
       "      <th>Freq_cd</th>\n",
       "      <th>Pot</th>\n",
       "      <th>Veloc</th>\n",
       "    </tr>\n",
       "  </thead>\n",
       "  <tbody>\n",
       "    <tr>\n",
       "      <th>0</th>\n",
       "      <td>NaN</td>\n",
       "      <td>8 de dez de 2019</td>\n",
       "      <td>168bpm</td>\n",
       "      <td>Marcelo Crestani</td>\n",
       "      <td>196W</td>\n",
       "      <td>1:15:10</td>\n",
       "      <td>-</td>\n",
       "      <td>28,1km/h</td>\n",
       "      <td>2019-01-01</td>\n",
       "      <td>4510</td>\n",
       "      <td>168.0</td>\n",
       "      <td>196.0</td>\n",
       "      <td>28.1</td>\n",
       "    </tr>\n",
       "    <tr>\n",
       "      <th>1</th>\n",
       "      <td>2.0</td>\n",
       "      <td>8 de dez de 2019</td>\n",
       "      <td>-</td>\n",
       "      <td>Rodrigo Alves</td>\n",
       "      <td>316W</td>\n",
       "      <td>1:15:13</td>\n",
       "      <td>-</td>\n",
       "      <td>28,1km/h</td>\n",
       "      <td>2019-01-01</td>\n",
       "      <td>4513</td>\n",
       "      <td>NaN</td>\n",
       "      <td>316.0</td>\n",
       "      <td>28.1</td>\n",
       "    </tr>\n",
       "    <tr>\n",
       "      <th>2</th>\n",
       "      <td>3.0</td>\n",
       "      <td>8 de dez de 2019</td>\n",
       "      <td>162bpm</td>\n",
       "      <td>Anderson Reichert 🚜🇧🇷MTB</td>\n",
       "      <td>362W</td>\n",
       "      <td>1:15:15</td>\n",
       "      <td>-</td>\n",
       "      <td>28,1km/h</td>\n",
       "      <td>2019-01-01</td>\n",
       "      <td>4515</td>\n",
       "      <td>162.0</td>\n",
       "      <td>362.0</td>\n",
       "      <td>28.1</td>\n",
       "    </tr>\n",
       "    <tr>\n",
       "      <th>3</th>\n",
       "      <td>4.0</td>\n",
       "      <td>8 de dez de 2019</td>\n",
       "      <td>-</td>\n",
       "      <td>Valdinei Dos Santos Valdinei Dos Santos</td>\n",
       "      <td>187W</td>\n",
       "      <td>1:16:07</td>\n",
       "      <td>-</td>\n",
       "      <td>27,7km/h</td>\n",
       "      <td>2019-01-01</td>\n",
       "      <td>4567</td>\n",
       "      <td>NaN</td>\n",
       "      <td>187.0</td>\n",
       "      <td>27.7</td>\n",
       "    </tr>\n",
       "    <tr>\n",
       "      <th>4</th>\n",
       "      <td>5.0</td>\n",
       "      <td>8 de dez de 2019</td>\n",
       "      <td>165bpm</td>\n",
       "      <td>Vinicius Ortega</td>\n",
       "      <td>189W</td>\n",
       "      <td>1:17:49</td>\n",
       "      <td>-</td>\n",
       "      <td>27,1km/h</td>\n",
       "      <td>2019-01-01</td>\n",
       "      <td>4669</td>\n",
       "      <td>165.0</td>\n",
       "      <td>189.0</td>\n",
       "      <td>27.1</td>\n",
       "    </tr>\n",
       "    <tr>\n",
       "      <th>...</th>\n",
       "      <td>...</td>\n",
       "      <td>...</td>\n",
       "      <td>...</td>\n",
       "      <td>...</td>\n",
       "      <td>...</td>\n",
       "      <td>...</td>\n",
       "      <td>...</td>\n",
       "      <td>...</td>\n",
       "      <td>...</td>\n",
       "      <td>...</td>\n",
       "      <td>...</td>\n",
       "      <td>...</td>\n",
       "      <td>...</td>\n",
       "    </tr>\n",
       "    <tr>\n",
       "      <th>0</th>\n",
       "      <td>176.0</td>\n",
       "      <td>9 de dez de 2018</td>\n",
       "      <td>-</td>\n",
       "      <td>ALAN HENRIQUE</td>\n",
       "      <td>-</td>\n",
       "      <td>3:05:48</td>\n",
       "      <td>-</td>\n",
       "      <td>11,4km/h</td>\n",
       "      <td>2018-01-01</td>\n",
       "      <td>11148</td>\n",
       "      <td>NaN</td>\n",
       "      <td>NaN</td>\n",
       "      <td>11.4</td>\n",
       "    </tr>\n",
       "    <tr>\n",
       "      <th>1</th>\n",
       "      <td>177.0</td>\n",
       "      <td>10 de dez de 2017</td>\n",
       "      <td>-</td>\n",
       "      <td>Edivaldo Tocantins</td>\n",
       "      <td>-</td>\n",
       "      <td>3:06:04</td>\n",
       "      <td>-</td>\n",
       "      <td>11,3km/h</td>\n",
       "      <td>2017-01-01</td>\n",
       "      <td>11164</td>\n",
       "      <td>NaN</td>\n",
       "      <td>NaN</td>\n",
       "      <td>11.3</td>\n",
       "    </tr>\n",
       "    <tr>\n",
       "      <th>2</th>\n",
       "      <td>178.0</td>\n",
       "      <td>9 de dez de 2018</td>\n",
       "      <td>-</td>\n",
       "      <td>Sol (Sorraily Kloeckner)</td>\n",
       "      <td>67W</td>\n",
       "      <td>3:06:13</td>\n",
       "      <td>-</td>\n",
       "      <td>11,3km/h</td>\n",
       "      <td>2018-01-01</td>\n",
       "      <td>11173</td>\n",
       "      <td>NaN</td>\n",
       "      <td>67.0</td>\n",
       "      <td>11.3</td>\n",
       "    </tr>\n",
       "    <tr>\n",
       "      <th>3</th>\n",
       "      <td>179.0</td>\n",
       "      <td>8 de dez de 2019</td>\n",
       "      <td>-</td>\n",
       "      <td>Rosana Poloni</td>\n",
       "      <td>-</td>\n",
       "      <td>3:09:08</td>\n",
       "      <td>-</td>\n",
       "      <td>11,2km/h</td>\n",
       "      <td>2019-01-01</td>\n",
       "      <td>11348</td>\n",
       "      <td>NaN</td>\n",
       "      <td>NaN</td>\n",
       "      <td>11.2</td>\n",
       "    </tr>\n",
       "    <tr>\n",
       "      <th>4</th>\n",
       "      <td>180.0</td>\n",
       "      <td>8 de dez de 2019</td>\n",
       "      <td>167bpm</td>\n",
       "      <td>Jose Adolfo Correa</td>\n",
       "      <td>-</td>\n",
       "      <td>20:44:29</td>\n",
       "      <td>-</td>\n",
       "      <td>1,7km/h</td>\n",
       "      <td>2019-01-01</td>\n",
       "      <td>74669</td>\n",
       "      <td>167.0</td>\n",
       "      <td>NaN</td>\n",
       "      <td>1.7</td>\n",
       "    </tr>\n",
       "  </tbody>\n",
       "</table>\n",
       "<p>180 rows × 13 columns</p>\n",
       "</div>"
      ],
      "text/plain": [
       "    Classificação               Data      FC  \\\n",
       "0             NaN   8 de dez de 2019  168bpm   \n",
       "1             2.0   8 de dez de 2019       -   \n",
       "2             3.0   8 de dez de 2019  162bpm   \n",
       "3             4.0   8 de dez de 2019       -   \n",
       "4             5.0   8 de dez de 2019  165bpm   \n",
       "..            ...                ...     ...   \n",
       "0           176.0   9 de dez de 2018       -   \n",
       "1           177.0  10 de dez de 2017       -   \n",
       "2           178.0   9 de dez de 2018       -   \n",
       "3           179.0   8 de dez de 2019       -   \n",
       "4           180.0   8 de dez de 2019  167bpm   \n",
       "\n",
       "                                       Nome Potência     Tempo VAM Velocidade  \\\n",
       "0                          Marcelo Crestani     196W   1:15:10   -   28,1km/h   \n",
       "1                             Rodrigo Alves     316W   1:15:13   -   28,1km/h   \n",
       "2                  Anderson Reichert 🚜🇧🇷MTB     362W   1:15:15   -   28,1km/h   \n",
       "3   Valdinei Dos Santos Valdinei Dos Santos     187W   1:16:07   -   27,7km/h   \n",
       "4                           Vinicius Ortega     189W   1:17:49   -   27,1km/h   \n",
       "..                                      ...      ...       ...  ..        ...   \n",
       "0                             ALAN HENRIQUE        -   3:05:48   -   11,4km/h   \n",
       "1                        Edivaldo Tocantins        -   3:06:04   -   11,3km/h   \n",
       "2                  Sol (Sorraily Kloeckner)      67W   3:06:13   -   11,3km/h   \n",
       "3                             Rosana Poloni        -   3:09:08   -   11,2km/h   \n",
       "4                        Jose Adolfo Correa        -  20:44:29   -    1,7km/h   \n",
       "\n",
       "          Ano  Tempo_sec  Freq_cd    Pot  Veloc  \n",
       "0  2019-01-01       4510    168.0  196.0   28.1  \n",
       "1  2019-01-01       4513      NaN  316.0   28.1  \n",
       "2  2019-01-01       4515    162.0  362.0   28.1  \n",
       "3  2019-01-01       4567      NaN  187.0   27.7  \n",
       "4  2019-01-01       4669    165.0  189.0   27.1  \n",
       "..        ...        ...      ...    ...    ...  \n",
       "0  2018-01-01      11148      NaN    NaN   11.4  \n",
       "1  2017-01-01      11164      NaN    NaN   11.3  \n",
       "2  2018-01-01      11173      NaN   67.0   11.3  \n",
       "3  2019-01-01      11348      NaN    NaN   11.2  \n",
       "4  2019-01-01      74669    167.0    NaN    1.7  \n",
       "\n",
       "[180 rows x 13 columns]"
      ]
     },
     "execution_count": 24,
     "metadata": {},
     "output_type": "execute_result"
    }
   ],
   "source": [
    "all_tables # check new columns"
   ]
  },
  {
   "cell_type": "code",
   "execution_count": 25,
   "metadata": {},
   "outputs": [],
   "source": [
    "# there is one observation that is probably wrong: 20 hours to finish the race,\n",
    "# the person probably forgot to turn off the gps: bad data\n",
    "# so, I'll drop this specific row:\n",
    "\n",
    "i = all_tables[((all_tables.Nome == 'Jose Adolfo Correa') & (all_tables.Tempo_sec == 74669))].index\n",
    "all_tables.drop(i, inplace=True)"
   ]
  },
  {
   "cell_type": "code",
   "execution_count": 26,
   "metadata": {
    "scrolled": true
   },
   "outputs": [
    {
     "data": {
      "text/plain": [
       "Classificação           float64\n",
       "Data                     object\n",
       "FC                       object\n",
       "Nome                     object\n",
       "Potência                 object\n",
       "Tempo                    object\n",
       "VAM                      object\n",
       "Velocidade               object\n",
       "Ano              datetime64[ns]\n",
       "Tempo_sec                 int64\n",
       "Freq_cd                 float64\n",
       "Pot                     float64\n",
       "Veloc                   float64\n",
       "dtype: object"
      ]
     },
     "execution_count": 26,
     "metadata": {},
     "output_type": "execute_result"
    }
   ],
   "source": [
    "# check col types\n",
    "all_tables.dtypes"
   ]
  },
  {
   "cell_type": "code",
   "execution_count": 27,
   "metadata": {},
   "outputs": [],
   "source": [
    "# columns that I'm interested:\n",
    "table = all_tables.drop(['Data', 'FC', 'Potência', 'Tempo', 'Velocidade', 'Nome', 'VAM'], axis=1)"
   ]
  },
  {
   "cell_type": "code",
   "execution_count": 28,
   "metadata": {},
   "outputs": [],
   "source": [
    "# Separate by years: I'm also going to check for differences among years:"
   ]
  },
  {
   "cell_type": "code",
   "execution_count": 29,
   "metadata": {},
   "outputs": [],
   "source": [
    "# Make a mask\n",
    "mask_2019 = (table['Ano'] == '2019')\n",
    "mask_2018 = (table['Ano'] == '2018')\n",
    "mask_2017 = (table['Ano'] == '2017')"
   ]
  },
  {
   "cell_type": "code",
   "execution_count": 30,
   "metadata": {},
   "outputs": [],
   "source": [
    "table_2019 = table.loc[mask_2019]\n",
    "table_2018 = table.loc[mask_2018]\n",
    "table_2017 = table.loc[mask_2017]"
   ]
  },
  {
   "cell_type": "code",
   "execution_count": 31,
   "metadata": {},
   "outputs": [
    {
     "data": {
      "text/plain": [
       "172"
      ]
     },
     "execution_count": 31,
     "metadata": {},
     "output_type": "execute_result"
    }
   ],
   "source": [
    "# Quantity of observations: 2019>2018>2017\n",
    "# len(table.index)"
   ]
  },
  {
   "cell_type": "code",
   "execution_count": 32,
   "metadata": {},
   "outputs": [
    {
     "data": {
      "text/plain": [
       "99"
      ]
     },
     "execution_count": 32,
     "metadata": {},
     "output_type": "execute_result"
    }
   ],
   "source": [
    "#len(table_2019.index)"
   ]
  },
  {
   "cell_type": "code",
   "execution_count": 33,
   "metadata": {},
   "outputs": [
    {
     "data": {
      "text/plain": [
       "54"
      ]
     },
     "execution_count": 33,
     "metadata": {},
     "output_type": "execute_result"
    }
   ],
   "source": [
    "#len(table_2018.index)"
   ]
  },
  {
   "cell_type": "code",
   "execution_count": 34,
   "metadata": {},
   "outputs": [
    {
     "data": {
      "text/plain": [
       "19"
      ]
     },
     "execution_count": 34,
     "metadata": {},
     "output_type": "execute_result"
    }
   ],
   "source": [
    "#len(table_2017.index)"
   ]
  },
  {
   "cell_type": "markdown",
   "metadata": {},
   "source": [
    "#### 3. Exploratory Data Analysis"
   ]
  },
  {
   "cell_type": "code",
   "execution_count": 36,
   "metadata": {},
   "outputs": [
    {
     "data": {
      "text/html": [
       "<div>\n",
       "<style scoped>\n",
       "    .dataframe tbody tr th:only-of-type {\n",
       "        vertical-align: middle;\n",
       "    }\n",
       "\n",
       "    .dataframe tbody tr th {\n",
       "        vertical-align: top;\n",
       "    }\n",
       "\n",
       "    .dataframe thead th {\n",
       "        text-align: right;\n",
       "    }\n",
       "</style>\n",
       "<table border=\"1\" class=\"dataframe\">\n",
       "  <thead>\n",
       "    <tr style=\"text-align: right;\">\n",
       "      <th></th>\n",
       "      <th>Classificação</th>\n",
       "      <th>Tempo_sec</th>\n",
       "      <th>Freq_cd</th>\n",
       "      <th>Pot</th>\n",
       "      <th>Veloc</th>\n",
       "    </tr>\n",
       "  </thead>\n",
       "  <tbody>\n",
       "    <tr>\n",
       "      <th>count</th>\n",
       "      <td>171.000000</td>\n",
       "      <td>172.000000</td>\n",
       "      <td>53.000000</td>\n",
       "      <td>149.000000</td>\n",
       "      <td>172.000000</td>\n",
       "    </tr>\n",
       "    <tr>\n",
       "      <th>mean</th>\n",
       "      <td>90.894737</td>\n",
       "      <td>6501.831395</td>\n",
       "      <td>168.377358</td>\n",
       "      <td>181.161074</td>\n",
       "      <td>20.594767</td>\n",
       "    </tr>\n",
       "    <tr>\n",
       "      <th>std</th>\n",
       "      <td>51.569263</td>\n",
       "      <td>1689.876915</td>\n",
       "      <td>16.225842</td>\n",
       "      <td>79.454310</td>\n",
       "      <td>4.429002</td>\n",
       "    </tr>\n",
       "    <tr>\n",
       "      <th>min</th>\n",
       "      <td>2.000000</td>\n",
       "      <td>4510.000000</td>\n",
       "      <td>110.000000</td>\n",
       "      <td>19.000000</td>\n",
       "      <td>11.200000</td>\n",
       "    </tr>\n",
       "    <tr>\n",
       "      <th>25%</th>\n",
       "      <td>46.000000</td>\n",
       "      <td>5248.750000</td>\n",
       "      <td>162.000000</td>\n",
       "      <td>124.000000</td>\n",
       "      <td>17.300000</td>\n",
       "    </tr>\n",
       "    <tr>\n",
       "      <th>50%</th>\n",
       "      <td>91.000000</td>\n",
       "      <td>5932.500000</td>\n",
       "      <td>174.000000</td>\n",
       "      <td>166.000000</td>\n",
       "      <td>21.350000</td>\n",
       "    </tr>\n",
       "    <tr>\n",
       "      <th>75%</th>\n",
       "      <td>135.000000</td>\n",
       "      <td>7341.000000</td>\n",
       "      <td>177.000000</td>\n",
       "      <td>222.000000</td>\n",
       "      <td>24.125000</td>\n",
       "    </tr>\n",
       "    <tr>\n",
       "      <th>max</th>\n",
       "      <td>179.000000</td>\n",
       "      <td>11348.000000</td>\n",
       "      <td>192.000000</td>\n",
       "      <td>499.000000</td>\n",
       "      <td>28.100000</td>\n",
       "    </tr>\n",
       "  </tbody>\n",
       "</table>\n",
       "</div>"
      ],
      "text/plain": [
       "       Classificação     Tempo_sec     Freq_cd         Pot       Veloc\n",
       "count     171.000000    172.000000   53.000000  149.000000  172.000000\n",
       "mean       90.894737   6501.831395  168.377358  181.161074   20.594767\n",
       "std        51.569263   1689.876915   16.225842   79.454310    4.429002\n",
       "min         2.000000   4510.000000  110.000000   19.000000   11.200000\n",
       "25%        46.000000   5248.750000  162.000000  124.000000   17.300000\n",
       "50%        91.000000   5932.500000  174.000000  166.000000   21.350000\n",
       "75%       135.000000   7341.000000  177.000000  222.000000   24.125000\n",
       "max       179.000000  11348.000000  192.000000  499.000000   28.100000"
      ]
     },
     "execution_count": 36,
     "metadata": {},
     "output_type": "execute_result"
    }
   ],
   "source": [
    "# 3.1 Summary statistics\n",
    "\n",
    "# general - all years (groups) together and variables\n",
    "table.describe()"
   ]
  },
  {
   "cell_type": "code",
   "execution_count": 37,
   "metadata": {},
   "outputs": [
    {
     "data": {
      "text/html": [
       "<div>\n",
       "<style scoped>\n",
       "    .dataframe tbody tr th:only-of-type {\n",
       "        vertical-align: middle;\n",
       "    }\n",
       "\n",
       "    .dataframe tbody tr th {\n",
       "        vertical-align: top;\n",
       "    }\n",
       "\n",
       "    .dataframe thead tr th {\n",
       "        text-align: left;\n",
       "    }\n",
       "\n",
       "    .dataframe thead tr:last-of-type th {\n",
       "        text-align: right;\n",
       "    }\n",
       "</style>\n",
       "<table border=\"1\" class=\"dataframe\">\n",
       "  <thead>\n",
       "    <tr>\n",
       "      <th></th>\n",
       "      <th colspan=\"8\" halign=\"left\">Classificação</th>\n",
       "      <th colspan=\"2\" halign=\"left\">Tempo_sec</th>\n",
       "      <th>...</th>\n",
       "      <th colspan=\"2\" halign=\"left\">Pot</th>\n",
       "      <th colspan=\"8\" halign=\"left\">Veloc</th>\n",
       "    </tr>\n",
       "    <tr>\n",
       "      <th></th>\n",
       "      <th>count</th>\n",
       "      <th>mean</th>\n",
       "      <th>std</th>\n",
       "      <th>min</th>\n",
       "      <th>25%</th>\n",
       "      <th>50%</th>\n",
       "      <th>75%</th>\n",
       "      <th>max</th>\n",
       "      <th>count</th>\n",
       "      <th>mean</th>\n",
       "      <th>...</th>\n",
       "      <th>75%</th>\n",
       "      <th>max</th>\n",
       "      <th>count</th>\n",
       "      <th>mean</th>\n",
       "      <th>std</th>\n",
       "      <th>min</th>\n",
       "      <th>25%</th>\n",
       "      <th>50%</th>\n",
       "      <th>75%</th>\n",
       "      <th>max</th>\n",
       "    </tr>\n",
       "    <tr>\n",
       "      <th>Ano</th>\n",
       "      <th></th>\n",
       "      <th></th>\n",
       "      <th></th>\n",
       "      <th></th>\n",
       "      <th></th>\n",
       "      <th></th>\n",
       "      <th></th>\n",
       "      <th></th>\n",
       "      <th></th>\n",
       "      <th></th>\n",
       "      <th></th>\n",
       "      <th></th>\n",
       "      <th></th>\n",
       "      <th></th>\n",
       "      <th></th>\n",
       "      <th></th>\n",
       "      <th></th>\n",
       "      <th></th>\n",
       "      <th></th>\n",
       "      <th></th>\n",
       "      <th></th>\n",
       "    </tr>\n",
       "  </thead>\n",
       "  <tbody>\n",
       "    <tr>\n",
       "      <th>2017-01-01</th>\n",
       "      <td>19.0</td>\n",
       "      <td>134.210526</td>\n",
       "      <td>35.650431</td>\n",
       "      <td>65.0</td>\n",
       "      <td>105.00</td>\n",
       "      <td>144.0</td>\n",
       "      <td>164.50</td>\n",
       "      <td>177.0</td>\n",
       "      <td>19.0</td>\n",
       "      <td>8008.105263</td>\n",
       "      <td>...</td>\n",
       "      <td>177.75</td>\n",
       "      <td>250.0</td>\n",
       "      <td>19.0</td>\n",
       "      <td>16.710526</td>\n",
       "      <td>3.913778</td>\n",
       "      <td>11.3</td>\n",
       "      <td>14.000</td>\n",
       "      <td>16.30</td>\n",
       "      <td>19.900</td>\n",
       "      <td>23.3</td>\n",
       "    </tr>\n",
       "    <tr>\n",
       "      <th>2018-01-01</th>\n",
       "      <td>54.0</td>\n",
       "      <td>92.685185</td>\n",
       "      <td>52.578001</td>\n",
       "      <td>7.0</td>\n",
       "      <td>48.00</td>\n",
       "      <td>95.0</td>\n",
       "      <td>136.75</td>\n",
       "      <td>178.0</td>\n",
       "      <td>54.0</td>\n",
       "      <td>6586.333333</td>\n",
       "      <td>...</td>\n",
       "      <td>250.00</td>\n",
       "      <td>499.0</td>\n",
       "      <td>54.0</td>\n",
       "      <td>20.366667</td>\n",
       "      <td>4.461661</td>\n",
       "      <td>11.3</td>\n",
       "      <td>17.175</td>\n",
       "      <td>20.85</td>\n",
       "      <td>24.025</td>\n",
       "      <td>27.0</td>\n",
       "    </tr>\n",
       "    <tr>\n",
       "      <th>2019-01-01</th>\n",
       "      <td>98.0</td>\n",
       "      <td>81.510204</td>\n",
       "      <td>49.559970</td>\n",
       "      <td>2.0</td>\n",
       "      <td>38.25</td>\n",
       "      <td>75.5</td>\n",
       "      <td>118.75</td>\n",
       "      <td>179.0</td>\n",
       "      <td>99.0</td>\n",
       "      <td>6166.656566</td>\n",
       "      <td>...</td>\n",
       "      <td>236.00</td>\n",
       "      <td>401.0</td>\n",
       "      <td>99.0</td>\n",
       "      <td>21.464646</td>\n",
       "      <td>4.114690</td>\n",
       "      <td>11.2</td>\n",
       "      <td>18.750</td>\n",
       "      <td>22.50</td>\n",
       "      <td>24.600</td>\n",
       "      <td>28.1</td>\n",
       "    </tr>\n",
       "  </tbody>\n",
       "</table>\n",
       "<p>3 rows × 40 columns</p>\n",
       "</div>"
      ],
      "text/plain": [
       "           Classificação                                                      \\\n",
       "                   count        mean        std   min     25%    50%     75%   \n",
       "Ano                                                                            \n",
       "2017-01-01          19.0  134.210526  35.650431  65.0  105.00  144.0  164.50   \n",
       "2018-01-01          54.0   92.685185  52.578001   7.0   48.00   95.0  136.75   \n",
       "2019-01-01          98.0   81.510204  49.559970   2.0   38.25   75.5  118.75   \n",
       "\n",
       "                  Tempo_sec               ...     Pot        Veloc             \\\n",
       "              max     count         mean  ...     75%    max count       mean   \n",
       "Ano                                       ...                                   \n",
       "2017-01-01  177.0      19.0  8008.105263  ...  177.75  250.0  19.0  16.710526   \n",
       "2018-01-01  178.0      54.0  6586.333333  ...  250.00  499.0  54.0  20.366667   \n",
       "2019-01-01  179.0      99.0  6166.656566  ...  236.00  401.0  99.0  21.464646   \n",
       "\n",
       "                                                         \n",
       "                 std   min     25%    50%     75%   max  \n",
       "Ano                                                      \n",
       "2017-01-01  3.913778  11.3  14.000  16.30  19.900  23.3  \n",
       "2018-01-01  4.461661  11.3  17.175  20.85  24.025  27.0  \n",
       "2019-01-01  4.114690  11.2  18.750  22.50  24.600  28.1  \n",
       "\n",
       "[3 rows x 40 columns]"
      ]
     },
     "execution_count": 37,
     "metadata": {},
     "output_type": "execute_result"
    }
   ],
   "source": [
    "# Group by year - all variables\n",
    "# too much data here to see it properly\n",
    "table.groupby('Ano').describe()"
   ]
  },
  {
   "cell_type": "code",
   "execution_count": 38,
   "metadata": {},
   "outputs": [],
   "source": [
    "# Summary of each variable, more organized:\n",
    "# Most interesting variables: Tempo_sec, Veloc, Freq_cd, Pot"
   ]
  },
  {
   "cell_type": "code",
   "execution_count": 39,
   "metadata": {},
   "outputs": [
    {
     "data": {
      "text/html": [
       "<div>\n",
       "<style scoped>\n",
       "    .dataframe tbody tr th:only-of-type {\n",
       "        vertical-align: middle;\n",
       "    }\n",
       "\n",
       "    .dataframe tbody tr th {\n",
       "        vertical-align: top;\n",
       "    }\n",
       "\n",
       "    .dataframe thead th {\n",
       "        text-align: right;\n",
       "    }\n",
       "</style>\n",
       "<table border=\"1\" class=\"dataframe\">\n",
       "  <thead>\n",
       "    <tr style=\"text-align: right;\">\n",
       "      <th></th>\n",
       "      <th>count</th>\n",
       "      <th>mean</th>\n",
       "      <th>std</th>\n",
       "      <th>min</th>\n",
       "      <th>25%</th>\n",
       "      <th>50%</th>\n",
       "      <th>75%</th>\n",
       "      <th>max</th>\n",
       "    </tr>\n",
       "    <tr>\n",
       "      <th>Ano</th>\n",
       "      <th></th>\n",
       "      <th></th>\n",
       "      <th></th>\n",
       "      <th></th>\n",
       "      <th></th>\n",
       "      <th></th>\n",
       "      <th></th>\n",
       "      <th></th>\n",
       "    </tr>\n",
       "  </thead>\n",
       "  <tbody>\n",
       "    <tr>\n",
       "      <th>2017-01-01</th>\n",
       "      <td>19.0</td>\n",
       "      <td>8008.105263</td>\n",
       "      <td>1980.242098</td>\n",
       "      <td>5434.0</td>\n",
       "      <td>6359.0</td>\n",
       "      <td>7771.0</td>\n",
       "      <td>9034.00</td>\n",
       "      <td>11164.0</td>\n",
       "    </tr>\n",
       "    <tr>\n",
       "      <th>2018-01-01</th>\n",
       "      <td>54.0</td>\n",
       "      <td>6586.333333</td>\n",
       "      <td>1750.428745</td>\n",
       "      <td>4685.0</td>\n",
       "      <td>5279.5</td>\n",
       "      <td>6084.5</td>\n",
       "      <td>7370.25</td>\n",
       "      <td>11173.0</td>\n",
       "    </tr>\n",
       "    <tr>\n",
       "      <th>2019-01-01</th>\n",
       "      <td>99.0</td>\n",
       "      <td>6166.656566</td>\n",
       "      <td>1431.174907</td>\n",
       "      <td>4510.0</td>\n",
       "      <td>5148.5</td>\n",
       "      <td>5628.0</td>\n",
       "      <td>6747.00</td>\n",
       "      <td>11348.0</td>\n",
       "    </tr>\n",
       "  </tbody>\n",
       "</table>\n",
       "</div>"
      ],
      "text/plain": [
       "            count         mean          std     min     25%     50%      75%  \\\n",
       "Ano                                                                            \n",
       "2017-01-01   19.0  8008.105263  1980.242098  5434.0  6359.0  7771.0  9034.00   \n",
       "2018-01-01   54.0  6586.333333  1750.428745  4685.0  5279.5  6084.5  7370.25   \n",
       "2019-01-01   99.0  6166.656566  1431.174907  4510.0  5148.5  5628.0  6747.00   \n",
       "\n",
       "                max  \n",
       "Ano                  \n",
       "2017-01-01  11164.0  \n",
       "2018-01-01  11173.0  \n",
       "2019-01-01  11348.0  "
      ]
     },
     "execution_count": 39,
     "metadata": {},
     "output_type": "execute_result"
    }
   ],
   "source": [
    "table.groupby('Ano')['Tempo_sec'].describe()\n",
    "# suggests: average time to finish race (and its sd and minimum) decreased through years"
   ]
  },
  {
   "cell_type": "code",
   "execution_count": 40,
   "metadata": {},
   "outputs": [
    {
     "data": {
      "text/html": [
       "<div>\n",
       "<style scoped>\n",
       "    .dataframe tbody tr th:only-of-type {\n",
       "        vertical-align: middle;\n",
       "    }\n",
       "\n",
       "    .dataframe tbody tr th {\n",
       "        vertical-align: top;\n",
       "    }\n",
       "\n",
       "    .dataframe thead th {\n",
       "        text-align: right;\n",
       "    }\n",
       "</style>\n",
       "<table border=\"1\" class=\"dataframe\">\n",
       "  <thead>\n",
       "    <tr style=\"text-align: right;\">\n",
       "      <th></th>\n",
       "      <th>count</th>\n",
       "      <th>mean</th>\n",
       "      <th>std</th>\n",
       "      <th>min</th>\n",
       "      <th>25%</th>\n",
       "      <th>50%</th>\n",
       "      <th>75%</th>\n",
       "      <th>max</th>\n",
       "    </tr>\n",
       "    <tr>\n",
       "      <th>Ano</th>\n",
       "      <th></th>\n",
       "      <th></th>\n",
       "      <th></th>\n",
       "      <th></th>\n",
       "      <th></th>\n",
       "      <th></th>\n",
       "      <th></th>\n",
       "      <th></th>\n",
       "    </tr>\n",
       "  </thead>\n",
       "  <tbody>\n",
       "    <tr>\n",
       "      <th>2017-01-01</th>\n",
       "      <td>19.0</td>\n",
       "      <td>16.710526</td>\n",
       "      <td>3.913778</td>\n",
       "      <td>11.3</td>\n",
       "      <td>14.000</td>\n",
       "      <td>16.30</td>\n",
       "      <td>19.900</td>\n",
       "      <td>23.3</td>\n",
       "    </tr>\n",
       "    <tr>\n",
       "      <th>2018-01-01</th>\n",
       "      <td>54.0</td>\n",
       "      <td>20.366667</td>\n",
       "      <td>4.461661</td>\n",
       "      <td>11.3</td>\n",
       "      <td>17.175</td>\n",
       "      <td>20.85</td>\n",
       "      <td>24.025</td>\n",
       "      <td>27.0</td>\n",
       "    </tr>\n",
       "    <tr>\n",
       "      <th>2019-01-01</th>\n",
       "      <td>99.0</td>\n",
       "      <td>21.464646</td>\n",
       "      <td>4.114690</td>\n",
       "      <td>11.2</td>\n",
       "      <td>18.750</td>\n",
       "      <td>22.50</td>\n",
       "      <td>24.600</td>\n",
       "      <td>28.1</td>\n",
       "    </tr>\n",
       "  </tbody>\n",
       "</table>\n",
       "</div>"
      ],
      "text/plain": [
       "            count       mean       std   min     25%    50%     75%   max\n",
       "Ano                                                                      \n",
       "2017-01-01   19.0  16.710526  3.913778  11.3  14.000  16.30  19.900  23.3\n",
       "2018-01-01   54.0  20.366667  4.461661  11.3  17.175  20.85  24.025  27.0\n",
       "2019-01-01   99.0  21.464646  4.114690  11.2  18.750  22.50  24.600  28.1"
      ]
     },
     "execution_count": 40,
     "metadata": {},
     "output_type": "execute_result"
    }
   ],
   "source": [
    "table.groupby('Ano')['Veloc'].describe()\n",
    "# suggests: avg speed race (and its max and sd) increased through years"
   ]
  },
  {
   "cell_type": "code",
   "execution_count": 41,
   "metadata": {},
   "outputs": [
    {
     "data": {
      "text/html": [
       "<div>\n",
       "<style scoped>\n",
       "    .dataframe tbody tr th:only-of-type {\n",
       "        vertical-align: middle;\n",
       "    }\n",
       "\n",
       "    .dataframe tbody tr th {\n",
       "        vertical-align: top;\n",
       "    }\n",
       "\n",
       "    .dataframe thead th {\n",
       "        text-align: right;\n",
       "    }\n",
       "</style>\n",
       "<table border=\"1\" class=\"dataframe\">\n",
       "  <thead>\n",
       "    <tr style=\"text-align: right;\">\n",
       "      <th></th>\n",
       "      <th>count</th>\n",
       "      <th>mean</th>\n",
       "      <th>std</th>\n",
       "      <th>min</th>\n",
       "      <th>25%</th>\n",
       "      <th>50%</th>\n",
       "      <th>75%</th>\n",
       "      <th>max</th>\n",
       "    </tr>\n",
       "    <tr>\n",
       "      <th>Ano</th>\n",
       "      <th></th>\n",
       "      <th></th>\n",
       "      <th></th>\n",
       "      <th></th>\n",
       "      <th></th>\n",
       "      <th></th>\n",
       "      <th></th>\n",
       "      <th></th>\n",
       "    </tr>\n",
       "  </thead>\n",
       "  <tbody>\n",
       "    <tr>\n",
       "      <th>2017-01-01</th>\n",
       "      <td>9.0</td>\n",
       "      <td>165.000000</td>\n",
       "      <td>16.500000</td>\n",
       "      <td>130.0</td>\n",
       "      <td>158.00</td>\n",
       "      <td>168.0</td>\n",
       "      <td>174.00</td>\n",
       "      <td>187.0</td>\n",
       "    </tr>\n",
       "    <tr>\n",
       "      <th>2018-01-01</th>\n",
       "      <td>14.0</td>\n",
       "      <td>169.071429</td>\n",
       "      <td>17.551964</td>\n",
       "      <td>119.0</td>\n",
       "      <td>166.75</td>\n",
       "      <td>174.5</td>\n",
       "      <td>177.75</td>\n",
       "      <td>190.0</td>\n",
       "    </tr>\n",
       "    <tr>\n",
       "      <th>2019-01-01</th>\n",
       "      <td>30.0</td>\n",
       "      <td>169.066667</td>\n",
       "      <td>15.956694</td>\n",
       "      <td>110.0</td>\n",
       "      <td>162.00</td>\n",
       "      <td>175.0</td>\n",
       "      <td>177.00</td>\n",
       "      <td>192.0</td>\n",
       "    </tr>\n",
       "  </tbody>\n",
       "</table>\n",
       "</div>"
      ],
      "text/plain": [
       "            count        mean        std    min     25%    50%     75%    max\n",
       "Ano                                                                          \n",
       "2017-01-01    9.0  165.000000  16.500000  130.0  158.00  168.0  174.00  187.0\n",
       "2018-01-01   14.0  169.071429  17.551964  119.0  166.75  174.5  177.75  190.0\n",
       "2019-01-01   30.0  169.066667  15.956694  110.0  162.00  175.0  177.00  192.0"
      ]
     },
     "execution_count": 41,
     "metadata": {},
     "output_type": "execute_result"
    }
   ],
   "source": [
    "table.groupby('Ano')['Freq_cd'].describe()\n",
    "# suggests: avg did not change much"
   ]
  },
  {
   "cell_type": "code",
   "execution_count": 42,
   "metadata": {},
   "outputs": [
    {
     "data": {
      "text/html": [
       "<div>\n",
       "<style scoped>\n",
       "    .dataframe tbody tr th:only-of-type {\n",
       "        vertical-align: middle;\n",
       "    }\n",
       "\n",
       "    .dataframe tbody tr th {\n",
       "        vertical-align: top;\n",
       "    }\n",
       "\n",
       "    .dataframe thead th {\n",
       "        text-align: right;\n",
       "    }\n",
       "</style>\n",
       "<table border=\"1\" class=\"dataframe\">\n",
       "  <thead>\n",
       "    <tr style=\"text-align: right;\">\n",
       "      <th></th>\n",
       "      <th>count</th>\n",
       "      <th>mean</th>\n",
       "      <th>std</th>\n",
       "      <th>min</th>\n",
       "      <th>25%</th>\n",
       "      <th>50%</th>\n",
       "      <th>75%</th>\n",
       "      <th>max</th>\n",
       "    </tr>\n",
       "    <tr>\n",
       "      <th>Ano</th>\n",
       "      <th></th>\n",
       "      <th></th>\n",
       "      <th></th>\n",
       "      <th></th>\n",
       "      <th></th>\n",
       "      <th></th>\n",
       "      <th></th>\n",
       "      <th></th>\n",
       "    </tr>\n",
       "  </thead>\n",
       "  <tbody>\n",
       "    <tr>\n",
       "      <th>2017-01-01</th>\n",
       "      <td>18.0</td>\n",
       "      <td>140.944444</td>\n",
       "      <td>53.267883</td>\n",
       "      <td>83.0</td>\n",
       "      <td>100.25</td>\n",
       "      <td>122.0</td>\n",
       "      <td>177.75</td>\n",
       "      <td>250.0</td>\n",
       "    </tr>\n",
       "    <tr>\n",
       "      <th>2018-01-01</th>\n",
       "      <td>46.0</td>\n",
       "      <td>190.347826</td>\n",
       "      <td>86.838859</td>\n",
       "      <td>19.0</td>\n",
       "      <td>136.00</td>\n",
       "      <td>175.5</td>\n",
       "      <td>250.00</td>\n",
       "      <td>499.0</td>\n",
       "    </tr>\n",
       "    <tr>\n",
       "      <th>2019-01-01</th>\n",
       "      <td>85.0</td>\n",
       "      <td>184.705882</td>\n",
       "      <td>78.123654</td>\n",
       "      <td>45.0</td>\n",
       "      <td>124.00</td>\n",
       "      <td>167.0</td>\n",
       "      <td>236.00</td>\n",
       "      <td>401.0</td>\n",
       "    </tr>\n",
       "  </tbody>\n",
       "</table>\n",
       "</div>"
      ],
      "text/plain": [
       "            count        mean        std   min     25%    50%     75%    max\n",
       "Ano                                                                         \n",
       "2017-01-01   18.0  140.944444  53.267883  83.0  100.25  122.0  177.75  250.0\n",
       "2018-01-01   46.0  190.347826  86.838859  19.0  136.00  175.5  250.00  499.0\n",
       "2019-01-01   85.0  184.705882  78.123654  45.0  124.00  167.0  236.00  401.0"
      ]
     },
     "execution_count": 42,
     "metadata": {},
     "output_type": "execute_result"
    }
   ],
   "source": [
    "table.groupby('Ano')['Pot'].describe()\n",
    "# no visible trend"
   ]
  },
  {
   "cell_type": "code",
   "execution_count": 43,
   "metadata": {},
   "outputs": [
    {
     "data": {
      "text/html": [
       "<div>\n",
       "<style scoped>\n",
       "    .dataframe tbody tr th:only-of-type {\n",
       "        vertical-align: middle;\n",
       "    }\n",
       "\n",
       "    .dataframe tbody tr th {\n",
       "        vertical-align: top;\n",
       "    }\n",
       "\n",
       "    .dataframe thead th {\n",
       "        text-align: right;\n",
       "    }\n",
       "</style>\n",
       "<table border=\"1\" class=\"dataframe\">\n",
       "  <thead>\n",
       "    <tr style=\"text-align: right;\">\n",
       "      <th></th>\n",
       "      <th>Classificação</th>\n",
       "      <th>Tempo_sec</th>\n",
       "      <th>Freq_cd</th>\n",
       "      <th>Pot</th>\n",
       "      <th>Veloc</th>\n",
       "    </tr>\n",
       "    <tr>\n",
       "      <th>Ano</th>\n",
       "      <th></th>\n",
       "      <th></th>\n",
       "      <th></th>\n",
       "      <th></th>\n",
       "      <th></th>\n",
       "    </tr>\n",
       "  </thead>\n",
       "  <tbody>\n",
       "    <tr>\n",
       "      <th>2017-01-01</th>\n",
       "      <td>144.0</td>\n",
       "      <td>7771.0</td>\n",
       "      <td>168.0</td>\n",
       "      <td>122.0</td>\n",
       "      <td>16.30</td>\n",
       "    </tr>\n",
       "    <tr>\n",
       "      <th>2018-01-01</th>\n",
       "      <td>95.0</td>\n",
       "      <td>6084.5</td>\n",
       "      <td>174.5</td>\n",
       "      <td>175.5</td>\n",
       "      <td>20.85</td>\n",
       "    </tr>\n",
       "    <tr>\n",
       "      <th>2019-01-01</th>\n",
       "      <td>75.5</td>\n",
       "      <td>5628.0</td>\n",
       "      <td>175.0</td>\n",
       "      <td>167.0</td>\n",
       "      <td>22.50</td>\n",
       "    </tr>\n",
       "  </tbody>\n",
       "</table>\n",
       "</div>"
      ],
      "text/plain": [
       "            Classificação  Tempo_sec  Freq_cd    Pot  Veloc\n",
       "Ano                                                        \n",
       "2017-01-01          144.0     7771.0    168.0  122.0  16.30\n",
       "2018-01-01           95.0     6084.5    174.5  175.5  20.85\n",
       "2019-01-01           75.5     5628.0    175.0  167.0  22.50"
      ]
     },
     "execution_count": 43,
     "metadata": {},
     "output_type": "execute_result"
    }
   ],
   "source": [
    "# also check median\n",
    "table.groupby('Ano').median()"
   ]
  },
  {
   "cell_type": "code",
   "execution_count": 44,
   "metadata": {},
   "outputs": [],
   "source": [
    "# Apparently, across the years, average (and median) total time to finish the race (Tempo_sec) has decreased,\n",
    "# while average Velocity (Veloc) has increased,\n",
    "# Although we have more data from 2019 than compared to 2017"
   ]
  },
  {
   "cell_type": "code",
   "execution_count": 45,
   "metadata": {},
   "outputs": [],
   "source": [
    "# 3.2Plotting "
   ]
  },
  {
   "cell_type": "code",
   "execution_count": 46,
   "metadata": {},
   "outputs": [],
   "source": [
    "%matplotlib inline\n",
    "import seaborn as sns"
   ]
  },
  {
   "cell_type": "code",
   "execution_count": 47,
   "metadata": {},
   "outputs": [],
   "source": [
    "# check the distribution of the variables\n",
    "# I won't make any assumptions on what type of these sample distributions are more closely related"
   ]
  },
  {
   "cell_type": "code",
   "execution_count": 48,
   "metadata": {},
   "outputs": [],
   "source": [
    "sns.set(color_codes=True)"
   ]
  },
  {
   "cell_type": "code",
   "execution_count": 50,
   "metadata": {
    "scrolled": true
   },
   "outputs": [
    {
     "data": {
      "image/png": "[encoded data removed]",
      "text/plain": [
       "<Figure size 432x288 with 1 Axes>"
      ]
     },
     "metadata": {},
     "output_type": "display_data"
    }
   ],
   "source": [
    "# Tempo_sec\n",
    "x = table['Tempo_sec']\n",
    "sns.distplot(x);"
   ]
  },
  {
   "cell_type": "code",
   "execution_count": 49,
   "metadata": {
    "scrolled": true
   },
   "outputs": [
    {
     "data": {
      "image/png": "[encoded data removed]",
      "text/plain": [
       "<Figure size 432x288 with 1 Axes>"
      ]
     },
     "metadata": {},
     "output_type": "display_data"
    }
   ],
   "source": [
    "# Veloc:\n",
    "x = table['Veloc']\n",
    "sns.distplot(x);"
   ]
  },
  {
   "cell_type": "code",
   "execution_count": 51,
   "metadata": {},
   "outputs": [],
   "source": [
    "# Relationship between variables"
   ]
  },
  {
   "cell_type": "code",
   "execution_count": 52,
   "metadata": {},
   "outputs": [
    {
     "data": {
      "text/plain": [
       "<seaborn.axisgrid.JointGrid at 0x226c0abdbc8>"
      ]
     },
     "execution_count": 52,
     "metadata": {},
     "output_type": "execute_result"
    },
    {
     "data": {
      "image/png": "[encoded data removed]",
      "text/plain": [
       "<Figure size 432x432 with 3 Axes>"
      ]
     },
     "metadata": {},
     "output_type": "display_data"
    }
   ],
   "source": [
    "# Classificação (classification) x pot\n",
    "sns.jointplot(x ='Classificação', y ='Pot', data = table) \n",
    "\n",
    "# (weak negative linear relationship)"
   ]
  },
  {
   "cell_type": "code",
   "execution_count": 54,
   "metadata": {},
   "outputs": [
    {
     "data": {
      "text/plain": [
       "<seaborn.axisgrid.JointGrid at 0x226c0aa6d08>"
      ]
     },
     "execution_count": 54,
     "metadata": {},
     "output_type": "execute_result"
    },
    {
     "data": {
      "image/png": "[encoded data removed]",
      "text/plain": [
       "<Figure size 432x432 with 3 Axes>"
      ]
     },
     "metadata": {},
     "output_type": "display_data"
    }
   ],
   "source": [
    "# Velocity x pot\n",
    "sns.jointplot(x ='Pot', y ='Veloc', data = table) \n",
    "\n",
    "# (weak positive linear relationship)"
   ]
  },
  {
   "cell_type": "code",
   "execution_count": 55,
   "metadata": {},
   "outputs": [
    {
     "data": {
      "text/plain": [
       "<matplotlib.axes._subplots.AxesSubplot at 0x226bd140788>"
      ]
     },
     "execution_count": 55,
     "metadata": {},
     "output_type": "execute_result"
    },
    {
     "data": {
      "image/png": "[encoded data removed]",
      "text/plain": [
       "<Figure size 432x288 with 1 Axes>"
      ]
     },
     "metadata": {},
     "output_type": "display_data"
    }
   ],
   "source": [
    "# Velocity x Classificação\n",
    "\n",
    "sns.regplot(x=\"Classificação\", y=\"Veloc\", data=table)\n",
    "# an almost (obvious?) strong negative linear relationship:\n",
    "# the > the average speed during the whole racing, the higher the classification"
   ]
  },
  {
   "cell_type": "code",
   "execution_count": 57,
   "metadata": {
    "scrolled": true
   },
   "outputs": [
    {
     "data": {
      "text/plain": [
       "<seaborn.axisgrid.JointGrid at 0x226c0a973c8>"
      ]
     },
     "execution_count": 57,
     "metadata": {},
     "output_type": "execute_result"
    },
    {
     "data": {
      "image/png": "[encoded data removed]",
      "text/plain": [
       "<Figure size 432x432 with 3 Axes>"
      ]
     },
     "metadata": {},
     "output_type": "display_data"
    }
   ],
   "source": [
    "# Tempo_sec x Veloc\n",
    "# (probably obvious)\n",
    "sns.jointplot(x ='Veloc', y ='Tempo_sec', data = table) \n",
    "\n",
    "# strong (not linear) relationship"
   ]
  },
  {
   "cell_type": "code",
   "execution_count": 58,
   "metadata": {},
   "outputs": [
    {
     "data": {
      "text/plain": [
       "<seaborn.axisgrid.JointGrid at 0x226c0e00608>"
      ]
     },
     "execution_count": 58,
     "metadata": {},
     "output_type": "execute_result"
    },
    {
     "data": {
      "image/png": "[encoded data removed]",
      "text/plain": [
       "<Figure size 432x432 with 3 Axes>"
      ]
     },
     "metadata": {},
     "output_type": "display_data"
    }
   ],
   "source": [
    "# Tempo_sec x pot\n",
    "sns.jointplot(x ='Pot', y ='Tempo_sec', data = table) \n",
    "\n",
    "# does not have an obvious trend: weak negative linear relationship\n",
    "# and suggests that there's a optimum pot to achieve lowest times"
   ]
  },
  {
   "cell_type": "code",
   "execution_count": 59,
   "metadata": {
    "scrolled": true
   },
   "outputs": [
    {
     "data": {
      "text/plain": [
       "<seaborn.axisgrid.JointGrid at 0x226c0f45448>"
      ]
     },
     "execution_count": 59,
     "metadata": {},
     "output_type": "execute_result"
    },
    {
     "data": {
      "image/png": "[encoded data removed]",
      "text/plain": [
       "<Figure size 432x432 with 3 Axes>"
      ]
     },
     "metadata": {},
     "output_type": "display_data"
    }
   ],
   "source": [
    "# Freq_cd x Tempo_sec\n",
    "sns.jointplot(x ='Freq_cd', y ='Tempo_sec', data = table) \n",
    "\n",
    "# no trend\n",
    "# Mostly, the lowest times were achieved by higher cardiac frequency\n",
    "# although few points indicate lower frequency and also lower times...."
   ]
  },
  {
   "cell_type": "code",
   "execution_count": 60,
   "metadata": {
    "scrolled": true
   },
   "outputs": [
    {
     "data": {
      "text/plain": [
       "<matplotlib.axes._subplots.AxesSubplot at 0x226c101d1c8>"
      ]
     },
     "execution_count": 60,
     "metadata": {},
     "output_type": "execute_result"
    },
    {
     "data": {
      "image/png": "[encoded data removed]",
      "text/plain": [
       "<Figure size 432x288 with 1 Axes>"
      ]
     },
     "metadata": {},
     "output_type": "display_data"
    }
   ],
   "source": [
    "# Fitting regression line: pot x velocity\n",
    "sns.regplot(x=\"Pot\", y=\"Veloc\", data=table)"
   ]
  },
  {
   "cell_type": "code",
   "execution_count": 61,
   "metadata": {
    "scrolled": true
   },
   "outputs": [
    {
     "data": {
      "image/png": "[encoded data removed]",
      "text/plain": [
       "<Figure size 564.1x360 with 1 Axes>"
      ]
     },
     "metadata": {},
     "output_type": "display_data"
    }
   ],
   "source": [
    "# Groupping by years\n",
    "# Pot x Veloc\n",
    "sns.lmplot(x=\"Pot\", y=\"Veloc\", hue=\"Ano\", data=table);"
   ]
  },
  {
   "cell_type": "code",
   "execution_count": 62,
   "metadata": {
    "scrolled": false
   },
   "outputs": [
    {
     "data": {
      "text/plain": [
       "<matplotlib.axes._subplots.AxesSubplot at 0x226c11856c8>"
      ]
     },
     "execution_count": 62,
     "metadata": {},
     "output_type": "execute_result"
    },
    {
     "data": {
      "image/png": "[encoded data removed]",
      "text/plain": [
       "<Figure size 432x288 with 1 Axes>"
      ]
     },
     "metadata": {},
     "output_type": "display_data"
    }
   ],
   "source": [
    "# pot x tempo_sec\n",
    "sns.regplot(x=\"Pot\", y=\"Tempo_sec\", data=table)"
   ]
  },
  {
   "cell_type": "code",
   "execution_count": 63,
   "metadata": {},
   "outputs": [
    {
     "data": {
      "text/plain": [
       "<seaborn.axisgrid.FacetGrid at 0x226c21b0a08>"
      ]
     },
     "execution_count": 63,
     "metadata": {},
     "output_type": "execute_result"
    },
    {
     "data": {
      "image/png": "[encoded data removed]",
      "text/plain": [
       "<Figure size 564.1x360 with 1 Axes>"
      ]
     },
     "metadata": {},
     "output_type": "display_data"
    }
   ],
   "source": [
    "# pot x tempo_sec by year\n",
    "sns.lmplot(x=\"Pot\", y=\"Tempo_sec\", hue=\"Ano\", data=table)"
   ]
  },
  {
   "cell_type": "code",
   "execution_count": 64,
   "metadata": {},
   "outputs": [
    {
     "data": {
      "text/plain": [
       "<matplotlib.axes._subplots.AxesSubplot at 0x226c11036c8>"
      ]
     },
     "execution_count": 64,
     "metadata": {},
     "output_type": "execute_result"
    },
    {
     "data": {
      "image/png": "[encoded data removed]",
      "text/plain": [
       "<Figure size 432x288 with 1 Axes>"
      ]
     },
     "metadata": {},
     "output_type": "display_data"
    }
   ],
   "source": [
    "# Veloc x Tempo_sec\n",
    "sns.regplot(x=\"Veloc\", y=\"Tempo_sec\", data=table)"
   ]
  },
  {
   "cell_type": "code",
   "execution_count": 65,
   "metadata": {
    "scrolled": true
   },
   "outputs": [
    {
     "data": {
      "image/png": "[encoded data removed]",
      "text/plain": [
       "<Figure size 564.1x360 with 1 Axes>"
      ]
     },
     "metadata": {},
     "output_type": "display_data"
    }
   ],
   "source": [
    "# Veloc x Tempo_sec by years\n",
    "sns.lmplot(x=\"Veloc\", y=\"Tempo_sec\", hue=\"Ano\", data=table);"
   ]
  },
  {
   "cell_type": "code",
   "execution_count": 66,
   "metadata": {},
   "outputs": [
    {
     "data": {
      "image/png": "[encoded data removed]",
      "text/plain": [
       "<Figure size 432x432 with 3 Axes>"
      ]
     },
     "metadata": {},
     "output_type": "display_data"
    }
   ],
   "source": [
    "# Freq_cd x Tempo_sec\n",
    "sns.jointplot(x=\"Freq_cd\", y=\"Tempo_sec\", data=table, kind=\"reg\");"
   ]
  },
  {
   "cell_type": "code",
   "execution_count": 67,
   "metadata": {},
   "outputs": [
    {
     "data": {
      "image/png": "[encoded data removed]",
      "text/plain": [
       "<Figure size 564.1x360 with 1 Axes>"
      ]
     },
     "metadata": {},
     "output_type": "display_data"
    }
   ],
   "source": [
    "# Freq_cd x Tempo_sec by years\n",
    "sns.lmplot(x=\"Freq_cd\", y=\"Tempo_sec\", hue=\"Ano\", data=table);"
   ]
  },
  {
   "cell_type": "code",
   "execution_count": 68,
   "metadata": {},
   "outputs": [
    {
     "data": {
      "text/plain": [
       "Classificação   -0.001246\n",
       "Tempo_sec        1.271787\n",
       "Freq_cd         -1.712853\n",
       "Pot              0.873612\n",
       "Veloc           -0.422927\n",
       "dtype: float64"
      ]
     },
     "execution_count": 68,
     "metadata": {},
     "output_type": "execute_result"
    }
   ],
   "source": [
    "# check skewness\n",
    "table.skew()\n",
    "\n",
    "# (Between -05. and 0.5 would be approximately symmetric) "
   ]
  },
  {
   "cell_type": "code",
   "execution_count": 69,
   "metadata": {},
   "outputs": [
    {
     "data": {
      "text/plain": [
       "Classificação   -1.202462\n",
       "Tempo_sec        1.035608\n",
       "Freq_cd          3.589134\n",
       "Pot              0.920572\n",
       "Veloc           -0.763023\n",
       "dtype: float64"
      ]
     },
     "execution_count": 69,
     "metadata": {},
     "output_type": "execute_result"
    }
   ],
   "source": [
    "# check kurtosis\n",
    "table.kurtosis()"
   ]
  },
  {
   "cell_type": "code",
   "execution_count": 70,
   "metadata": {},
   "outputs": [],
   "source": [
    "# Vartiable of most interest: Veloc and Time_sec may have differences among years: \n",
    "# 2019 with the highest and lowest, respec.\n",
    "\n",
    "# Freq_cd and Pot do not present an obvious trend or relationship,\n",
    "# and they may have an 'optimum' point to provide the lowest times to finish the race"
   ]
  },
  {
   "cell_type": "markdown",
   "metadata": {},
   "source": [
    "#### 4. Statistical analysis"
   ]
  },
  {
   "cell_type": "code",
   "execution_count": 71,
   "metadata": {},
   "outputs": [],
   "source": [
    "# Analyze if variables of interest differ among groups (years)\n",
    "# Does the performance of this racing is increasing?\n",
    "\n",
    "# Not assuming normal distribution (EDA): Opting for a non-parametric test\n",
    "# Null hypothesis: the median between samples do not differ"
   ]
  },
  {
   "cell_type": "code",
   "execution_count": 72,
   "metadata": {},
   "outputs": [],
   "source": [
    "from scipy import stats"
   ]
  },
  {
   "cell_type": "code",
   "execution_count": 73,
   "metadata": {},
   "outputs": [
    {
     "data": {
      "text/plain": [
       "KruskalResult(statistic=17.12367559403214, pvalue=0.00019126745967311764)"
      ]
     },
     "execution_count": 73,
     "metadata": {},
     "output_type": "execute_result"
    }
   ],
   "source": [
    "stats.kruskal(table_2019['Tempo_sec'],table_2018['Tempo_sec'],table_2017['Tempo_sec'], nan_policy='omit')"
   ]
  },
  {
   "cell_type": "code",
   "execution_count": 74,
   "metadata": {},
   "outputs": [
    {
     "data": {
      "text/plain": [
       "KruskalResult(statistic=17.4198369853204, pvalue=0.00016494169788441756)"
      ]
     },
     "execution_count": 74,
     "metadata": {},
     "output_type": "execute_result"
    }
   ],
   "source": [
    "stats.kruskal(table_2019['Veloc'],table_2018['Veloc'],table_2017['Veloc'], nan_policy='omit')"
   ]
  },
  {
   "cell_type": "code",
   "execution_count": 75,
   "metadata": {},
   "outputs": [
    {
     "data": {
      "text/plain": [
       "KruskalResult(statistic=6.082005810761336, pvalue=0.04778693967472602)"
      ]
     },
     "execution_count": 75,
     "metadata": {},
     "output_type": "execute_result"
    }
   ],
   "source": [
    "stats.kruskal(table_2019['Pot'],table_2018['Pot'],table_2017['Pot'], nan_policy='omit')"
   ]
  },
  {
   "cell_type": "code",
   "execution_count": 76,
   "metadata": {},
   "outputs": [
    {
     "data": {
      "text/plain": [
       "KruskalResult(statistic=1.1929473238805723, pvalue=0.5507503477212985)"
      ]
     },
     "execution_count": 76,
     "metadata": {},
     "output_type": "execute_result"
    }
   ],
   "source": [
    "stats.kruskal(table_2019['Freq_cd'],table_2018['Freq_cd'],table_2017['Freq_cd'], nan_policy='omit')"
   ]
  },
  {
   "cell_type": "code",
   "execution_count": 77,
   "metadata": {},
   "outputs": [],
   "source": [
    "# The test suggests that we reject the null hypothesis that all meadians are equal\n",
    "# Proceed with a posthoc non-parametric test to determine what groups (years) differ\n",
    "# (for the variables of most interest that were rejected in the Kruskal-Wallis: Tempo_sec and Veloc)"
   ]
  },
  {
   "cell_type": "code",
   "execution_count": 78,
   "metadata": {},
   "outputs": [],
   "source": [
    "import scikit_posthocs as sp"
   ]
  },
  {
   "cell_type": "code",
   "execution_count": 81,
   "metadata": {},
   "outputs": [
    {
     "data": {
      "text/html": [
       "<div>\n",
       "<style scoped>\n",
       "    .dataframe tbody tr th:only-of-type {\n",
       "        vertical-align: middle;\n",
       "    }\n",
       "\n",
       "    .dataframe tbody tr th {\n",
       "        vertical-align: top;\n",
       "    }\n",
       "\n",
       "    .dataframe thead th {\n",
       "        text-align: right;\n",
       "    }\n",
       "</style>\n",
       "<table border=\"1\" class=\"dataframe\">\n",
       "  <thead>\n",
       "    <tr style=\"text-align: right;\">\n",
       "      <th></th>\n",
       "      <th>2017-01-01</th>\n",
       "      <th>2018-01-01</th>\n",
       "      <th>2019-01-01</th>\n",
       "    </tr>\n",
       "  </thead>\n",
       "  <tbody>\n",
       "    <tr>\n",
       "      <th>2017-01-01</th>\n",
       "      <td>-1.000000</td>\n",
       "      <td>0.003939</td>\n",
       "      <td>0.000081</td>\n",
       "    </tr>\n",
       "    <tr>\n",
       "      <th>2018-01-01</th>\n",
       "      <td>0.003939</td>\n",
       "      <td>-1.000000</td>\n",
       "      <td>0.153512</td>\n",
       "    </tr>\n",
       "    <tr>\n",
       "      <th>2019-01-01</th>\n",
       "      <td>0.000081</td>\n",
       "      <td>0.153512</td>\n",
       "      <td>-1.000000</td>\n",
       "    </tr>\n",
       "  </tbody>\n",
       "</table>\n",
       "</div>"
      ],
      "text/plain": [
       "            2017-01-01  2018-01-01  2019-01-01\n",
       "2017-01-01   -1.000000    0.003939    0.000081\n",
       "2018-01-01    0.003939   -1.000000    0.153512\n",
       "2019-01-01    0.000081    0.153512   -1.000000"
      ]
     },
     "execution_count": 81,
     "metadata": {},
     "output_type": "execute_result"
    }
   ],
   "source": [
    "# Tempo_sec in years\n",
    "sp.posthoc_conover(table, val_col='Tempo_sec', group_col='Ano', p_adjust = 'holm')"
   ]
  },
  {
   "cell_type": "code",
   "execution_count": 82,
   "metadata": {
    "scrolled": true
   },
   "outputs": [
    {
     "data": {
      "text/html": [
       "<div>\n",
       "<style scoped>\n",
       "    .dataframe tbody tr th:only-of-type {\n",
       "        vertical-align: middle;\n",
       "    }\n",
       "\n",
       "    .dataframe tbody tr th {\n",
       "        vertical-align: top;\n",
       "    }\n",
       "\n",
       "    .dataframe thead th {\n",
       "        text-align: right;\n",
       "    }\n",
       "</style>\n",
       "<table border=\"1\" class=\"dataframe\">\n",
       "  <thead>\n",
       "    <tr style=\"text-align: right;\">\n",
       "      <th></th>\n",
       "      <th>2017-01-01</th>\n",
       "      <th>2018-01-01</th>\n",
       "      <th>2019-01-01</th>\n",
       "    </tr>\n",
       "  </thead>\n",
       "  <tbody>\n",
       "    <tr>\n",
       "      <th>2017-01-01</th>\n",
       "      <td>-1.000000</td>\n",
       "      <td>0.003422</td>\n",
       "      <td>0.000068</td>\n",
       "    </tr>\n",
       "    <tr>\n",
       "      <th>2018-01-01</th>\n",
       "      <td>0.003422</td>\n",
       "      <td>-1.000000</td>\n",
       "      <td>0.154768</td>\n",
       "    </tr>\n",
       "    <tr>\n",
       "      <th>2019-01-01</th>\n",
       "      <td>0.000068</td>\n",
       "      <td>0.154768</td>\n",
       "      <td>-1.000000</td>\n",
       "    </tr>\n",
       "  </tbody>\n",
       "</table>\n",
       "</div>"
      ],
      "text/plain": [
       "            2017-01-01  2018-01-01  2019-01-01\n",
       "2017-01-01   -1.000000    0.003422    0.000068\n",
       "2018-01-01    0.003422   -1.000000    0.154768\n",
       "2019-01-01    0.000068    0.154768   -1.000000"
      ]
     },
     "execution_count": 82,
     "metadata": {},
     "output_type": "execute_result"
    }
   ],
   "source": [
    "# Veloc in years\n",
    "sp.posthoc_conover(table, val_col='Veloc', group_col='Ano', p_adjust = 'holm')"
   ]
  },
  {
   "cell_type": "code",
   "execution_count": null,
   "metadata": {},
   "outputs": [],
   "source": [
    "# (considering the groups as each of the years of 2017, 2018 and 2019, that here appears as the whole date)\n",
    "# The total time to finish the race was different between pairs, except between 2018-2019\n",
    "# The same result found for Velocity during the race"
   ]
  },
  {
   "cell_type": "markdown",
   "metadata": {},
   "source": [
    "#### 5. Conclusion"
   ]
  },
  {
   "cell_type": "code",
   "execution_count": null,
   "metadata": {},
   "outputs": [],
   "source": [
    "+ Although there were some differences of total time to finish the race, we cannot conclude that the performance of the racing is increasing across the assessed years\n",
    "\n",
    "+ 2018 and 2019 were superior to 2017 (total time and velocity), but no differences between 2018-2019"
   ]
  }
 ],
 "metadata": {
  "kernelspec": {
   "display_name": "Python 3",
   "language": "python",
   "name": "python3"
  },
  "language_info": {
   "codemirror_mode": {
    "name": "ipython",
    "version": 3
   },
   "file_extension": ".py",
   "mimetype": "text/x-python",
   "name": "python",
   "nbconvert_exporter": "python",
   "pygments_lexer": "ipython3",
   "version": "3.7.4"
  }
 },
 "nbformat": 4,
 "nbformat_minor": 2
}
